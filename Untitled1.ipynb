{
 "cells": [
  {
   "cell_type": "code",
   "execution_count": 5,
   "id": "752ba73c-8219-481f-8623-931860f83e59",
   "metadata": {},
   "outputs": [
    {
     "name": "stdout",
     "output_type": "stream",
     "text": [
      "Number of tweets on Thursday: 230\n"
     ]
    }
   ],
   "source": [
    "import pandas as pd\n",
    "\n",
    "# Load the dataset\n",
    "file_path = \"C:/Users/Lenovo/Downloads/SocialMedia.csv\"  # Update with your file path if needed\n",
    "df = pd.read_csv(file_path)\n",
    "\n",
    "# Assuming there is a 'time' column containing timestamps of tweets\n",
    "df['time'] = pd.to_datetime(df['time'], errors='coerce')  # Convert to datetime\n",
    "\n",
    "# Extract day of the week\n",
    "df['DayOfWeek'] = df['time'].dt.day_name()\n",
    "\n",
    "# Count tweets on Thursday\n",
    "tweets_on_thursday = df[df['DayOfWeek'] == \"Thursday\"].shape[0]\n",
    "\n",
    "print(f\"Number of tweets on Thursday: {tweets_on_thursday}\")\n"
   ]
  },
  {
   "cell_type": "code",
   "execution_count": null,
   "id": "8c3b676e-9131-46e9-b29f-934b1487a0a7",
   "metadata": {},
   "outputs": [],
   "source": []
  }
 ],
 "metadata": {
  "kernelspec": {
   "display_name": "Python 3 (ipykernel)",
   "language": "python",
   "name": "python3"
  },
  "language_info": {
   "codemirror_mode": {
    "name": "ipython",
    "version": 3
   },
   "file_extension": ".py",
   "mimetype": "text/x-python",
   "name": "python",
   "nbconvert_exporter": "python",
   "pygments_lexer": "ipython3",
   "version": "3.13.1"
  },
  "widgets": {
   "application/vnd.jupyter.widget-state+json": {
    "state": {},
    "version_major": 2,
    "version_minor": 0
   }
  }
 },
 "nbformat": 4,
 "nbformat_minor": 5
}
