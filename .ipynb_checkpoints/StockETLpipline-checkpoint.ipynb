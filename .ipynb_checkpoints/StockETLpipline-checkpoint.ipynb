{
 "cells": [
  {
   "cell_type": "code",
   "execution_count": null,
   "id": "b657a0ac-4f6b-4f8b-967c-96c51e6a0bb7",
   "metadata": {},
   "outputs": [],
   "source": [
    "import pandas as pd\n",
    "from bsedata.bse import BSE \n",
    "import time"
   ]
  },
  {
   "cell_type": "code",
   "execution_count": null,
   "id": "2868ef23-7410-4207-bccb-e50850e0f690",
   "metadata": {},
   "outputs": [],
   "source": [
    "EquityDF = pd.read_excel('../Datasets/Equity.xlsx', engine='openpyxl')\n",
    "EquityDF .head(2)"
   ]
  },
  {
   "cell_type": "code",
   "execution_count": null,
   "id": "0508ae62-6a40-4ff7-b6ab-f1351f248c51",
   "metadata": {},
   "outputs": [],
   "source": [
    "EquityDF .shape"
   ]
  },
  {
   "cell_type": "markdown",
   "id": "00b135cf-3ea4-4366-bd6a-fda4ea78b9b0",
   "metadata": {},
   "source": [
    "𝐂𝐀𝐋𝐋𝐈𝐍𝐆 𝐁𝐒𝐄 𝐀𝐏𝐈 𝐟𝐨𝐫 𝐟𝐞𝐭𝐜𝐡𝐢𝐧𝐠 𝐒𝐭𝐨𝐜𝐤𝐬 𝐃𝐚𝐭𝐚 𝐟𝐨𝐫 𝐞𝐠: 𝐏𝐫𝐢𝐜𝐞, 𝐂𝐨𝐝𝐞, 𝐔𝐩𝐝𝐚𝐭𝐞𝐝 𝐃𝐚𝐭𝐞, 𝐎𝐩𝐞𝐧 𝐏𝐫𝐢𝐜𝐞, 𝐂𝐥𝐨𝐬𝐞 𝐏𝐫𝐢𝐜𝐞, 𝐌𝐫𝐤𝐭 𝐂𝐚𝐩"
   ]
  },
  {
   "cell_type": "code",
   "execution_count": null,
   "id": "50051c8d-dfc7-4657-bc53-250f5843fd6b",
   "metadata": {},
   "outputs": [],
   "source": [
    "# Define the list of Nifty 50 stock IDs\n",
    "listOf_Nifty50_StockIDs = [ \n",
    "    \"ADANIENT\", \"ADANIPORTS\", \"APOLLOHOSP\", \"ASIANPAINT\", \"AXISBANK\",\n",
    "    \"BAJAJ-AUTO\", \"BAJFINANCE\", \"BAJAJFINSV\", \"BPCL\", \"BHARTIARTL\",\n",
    "    \"BRITANNIA\", \"CIPLA\", \"COALINDIA\", \"DIVISLAB\", \"DRREDDY\", \"EICHERMOT\",\n",
    "    \"GRASIM\", \"HCLTECH\", \"HDFCBANK\", \"HDFCLIFE\", \"HEROMOTOCO\", \"HINDALCO\",\n",
    "    \"HINDUNILVR\", \"ICICIBANK\", \"ITC\", \"INDUSINDBK\", \"INFY\", \"JSWSTEEL\",\n",
    "    \"KOTAKBANK\", \"LTIM\", \"LT\", \"M&M\", \"MARUTI\", \"NTPC\", \"NESTLEIND\",\n",
    "    \"ONGC\", \"POWERGRID\", \"RELIANCE\", \"SBILIFE\", \"SBIN\", \"SUNPHARMA\",\n",
    "    \"TCS\", \"TATACONSUM\", \"TATAMOTORS\", \"TATASTEEL\", \"TECHM\", \"TITAN\",\n",
    "    \"UPL\", \"ULTRACEMCO\", \"WIPRO\"\n",
    "]\n",
    "\n",
    "EquityDF['Security Code'] = EquityDF['Security Code'].astype(str) ##coverting into str as getQuote() accepts str input\n",
    "\n",
    "# Filter the DataFrame to include only rows where 'Security Id' is in the list of Nifty 50 stock IDs\n",
    "nifty50_OnlyDF = EquityDF[EquityDF['Security Id'].isin(listOf_Nifty50_StockIDs)].reset_index(drop=True)\n",
    "\n",
    "# Remove spaces from column names if any\n",
    "nifty50_OnlyDF.columns = nifty50_OnlyDF.columns.str.replace(' ', '')\n",
    "\n",
    "# Display the resulting DataFrame\n",
    "nifty50_OnlyDF.head()\n"
   ]
  },
  {
   "cell_type": "code",
   "execution_count": null,
   "id": "98b2c503-9dd4-4104-b303-bc7896908d4b",
   "metadata": {},
   "outputs": [],
   "source": [
    "nifty50_OnlyDF['SecurityCode'].values"
   ]
  },
  {
   "cell_type": "code",
   "execution_count": null,
   "id": "7203905f-66ad-4236-a795-c2f77727e723",
   "metadata": {},
   "outputs": [],
   "source": [
    "# Initialize the BSE object, with an option to update stock codes.\n",
    "bseObject = BSE(update_codes=True)\n",
    "\n",
    "# Retrieve the 'SecurityCode' column values as a list.\n",
    "sqcode_ListNifty50 = nifty50_OnlyDF['SecurityCode'].values\n",
    "\n",
    "# Initialize an empty list to store dictionaries of stock information.\n",
    "listof_stockDicts = []\n",
    "\n",
    "# Iterate over each stock code in the Nifty 50 list.\n",
    "for sqCode in sqcode_ListNifty50:\n",
    "    try:\n",
    "        # Fetch the stock quote for the given stock code.\n",
    "        stockDict = bseObject.getQuote(sqCode)\n",
    "        \n",
    "        # Remove the 'buy' and 'sell' keys from the stock dictionary, if they exist.\n",
    "        stockDict.pop(\"buy\", None)\n",
    "        stockDict.pop(\"sell\", None)\n",
    "        \n",
    "        # Add the modified stock dictionary to the list.\n",
    "        listof_stockDicts.append(stockDict)\n",
    "        \n",
    "        # Pause for 0.5 seconds to avoid sending too many requests in a short period.\n",
    "        time.sleep(0.5)\n",
    "    except IndexError:\n",
    "        # If there's an error fetching data for a stock code, print an error message.\n",
    "        print(f\"IndexError for {sqCode}: Data not available\")\n",
    "\n",
    "# Convert the list of dictionaries into a DataFrame.\n",
    "nifty50DailyTable = pd.DataFrame(listof_stockDicts)\n",
    "\n",
    "# Display the first few rows of the DataFrame.\n",
    "nifty50DailyTable.head()"
   ]
  },
  {
   "cell_type": "code",
   "execution_count": null,
   "id": "be77e270-b2f2-446d-81d8-d156215fb59a",
   "metadata": {},
   "outputs": [],
   "source": []
  },
  {
   "cell_type": "code",
   "execution_count": null,
   "id": "30e61ac3-d208-4530-9d57-673e043ec906",
   "metadata": {},
   "outputs": [],
   "source": []
  },
  {
   "cell_type": "code",
   "execution_count": null,
   "id": "866578af-bde3-4f7d-9c3e-31097e07d7d3",
   "metadata": {},
   "outputs": [],
   "source": []
  }
 ],
 "metadata": {
  "kernelspec": {
   "display_name": "Python 3 (ipykernel)",
   "language": "python",
   "name": "python3"
  },
  "language_info": {
   "codemirror_mode": {
    "name": "ipython",
    "version": 3
   },
   "file_extension": ".py",
   "mimetype": "text/x-python",
   "name": "python",
   "nbconvert_exporter": "python",
   "pygments_lexer": "ipython3",
   "version": "3.11.5"
  },
  "widgets": {
   "application/vnd.jupyter.widget-state+json": {
    "state": {},
    "version_major": 2,
    "version_minor": 0
   }
  }
 },
 "nbformat": 4,
 "nbformat_minor": 5
}
