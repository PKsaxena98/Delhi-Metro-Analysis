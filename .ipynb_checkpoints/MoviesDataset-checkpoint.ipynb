{
 "cells": [
  {
   "cell_type": "code",
   "execution_count": 1,
   "id": "6dcda63c-4f04-4075-ac4b-015273de2e82",
   "metadata": {},
   "outputs": [],
   "source": [
    "import pandas as pd\n",
    "import requests"
   ]
  },
  {
   "cell_type": "code",
   "execution_count": 2,
   "id": "069dade2-25dd-439f-945b-5c1a842aa52f",
   "metadata": {},
   "outputs": [],
   "source": [
    "response = requests.get('https://api.themoviedb.org/3/movie/top_rated?api_key=cd98f058f2c7a8b15341977bb27128ae&&language=en-US&page=1')"
   ]
  },
  {
   "cell_type": "code",
   "execution_count": 3,
   "id": "e25f1864-c135-4458-bfe1-169c533b599c",
   "metadata": {},
   "outputs": [],
   "source": [
    "temp_df = pd.DataFrame(response.json()['results'])[['id','title', 'overview' ,'release_date', 'popularity' ,'vote_average', 'vote_count']]"
   ]
  },
  {
   "cell_type": "code",
   "execution_count": 4,
   "id": "867bc2c5-7c3f-48d9-87f4-16942a9ad975",
   "metadata": {},
   "outputs": [
    {
     "data": {
      "text/html": [
       "<div>\n",
       "<style scoped>\n",
       "    .dataframe tbody tr th:only-of-type {\n",
       "        vertical-align: middle;\n",
       "    }\n",
       "\n",
       "    .dataframe tbody tr th {\n",
       "        vertical-align: top;\n",
       "    }\n",
       "\n",
       "    .dataframe thead th {\n",
       "        text-align: right;\n",
       "    }\n",
       "</style>\n",
       "<table border=\"1\" class=\"dataframe\">\n",
       "  <thead>\n",
       "    <tr style=\"text-align: right;\">\n",
       "      <th></th>\n",
       "      <th>id</th>\n",
       "      <th>title</th>\n",
       "      <th>overview</th>\n",
       "      <th>release_date</th>\n",
       "      <th>popularity</th>\n",
       "      <th>vote_average</th>\n",
       "      <th>vote_count</th>\n",
       "    </tr>\n",
       "  </thead>\n",
       "  <tbody>\n",
       "    <tr>\n",
       "      <th>0</th>\n",
       "      <td>278</td>\n",
       "      <td>The Shawshank Redemption</td>\n",
       "      <td>Framed in the 1940s for the double murder of h...</td>\n",
       "      <td>1994-09-23</td>\n",
       "      <td>121.841</td>\n",
       "      <td>8.704</td>\n",
       "      <td>25761</td>\n",
       "    </tr>\n",
       "    <tr>\n",
       "      <th>1</th>\n",
       "      <td>238</td>\n",
       "      <td>The Godfather</td>\n",
       "      <td>Spanning the years 1945 to 1955, a chronicle o...</td>\n",
       "      <td>1972-03-14</td>\n",
       "      <td>114.857</td>\n",
       "      <td>8.695</td>\n",
       "      <td>19574</td>\n",
       "    </tr>\n",
       "    <tr>\n",
       "      <th>2</th>\n",
       "      <td>240</td>\n",
       "      <td>The Godfather Part II</td>\n",
       "      <td>In the continuing saga of the Corleone crime f...</td>\n",
       "      <td>1974-12-20</td>\n",
       "      <td>82.980</td>\n",
       "      <td>8.575</td>\n",
       "      <td>11826</td>\n",
       "    </tr>\n",
       "    <tr>\n",
       "      <th>3</th>\n",
       "      <td>424</td>\n",
       "      <td>Schindler's List</td>\n",
       "      <td>The true story of how businessman Oskar Schind...</td>\n",
       "      <td>1993-12-15</td>\n",
       "      <td>81.412</td>\n",
       "      <td>8.565</td>\n",
       "      <td>15211</td>\n",
       "    </tr>\n",
       "    <tr>\n",
       "      <th>4</th>\n",
       "      <td>129</td>\n",
       "      <td>Spirited Away</td>\n",
       "      <td>A young girl, Chihiro, becomes trapped in a st...</td>\n",
       "      <td>2001-07-20</td>\n",
       "      <td>109.262</td>\n",
       "      <td>8.539</td>\n",
       "      <td>15616</td>\n",
       "    </tr>\n",
       "  </tbody>\n",
       "</table>\n",
       "</div>"
      ],
      "text/plain": [
       "    id                     title  \\\n",
       "0  278  The Shawshank Redemption   \n",
       "1  238             The Godfather   \n",
       "2  240     The Godfather Part II   \n",
       "3  424          Schindler's List   \n",
       "4  129             Spirited Away   \n",
       "\n",
       "                                            overview release_date  popularity  \\\n",
       "0  Framed in the 1940s for the double murder of h...   1994-09-23     121.841   \n",
       "1  Spanning the years 1945 to 1955, a chronicle o...   1972-03-14     114.857   \n",
       "2  In the continuing saga of the Corleone crime f...   1974-12-20      82.980   \n",
       "3  The true story of how businessman Oskar Schind...   1993-12-15      81.412   \n",
       "4  A young girl, Chihiro, becomes trapped in a st...   2001-07-20     109.262   \n",
       "\n",
       "   vote_average  vote_count  \n",
       "0         8.704       25761  \n",
       "1         8.695       19574  \n",
       "2         8.575       11826  \n",
       "3         8.565       15211  \n",
       "4         8.539       15616  "
      ]
     },
     "execution_count": 4,
     "metadata": {},
     "output_type": "execute_result"
    }
   ],
   "source": [
    "temp_df.head()"
   ]
  },
  {
   "cell_type": "code",
   "execution_count": 5,
   "id": "771ea7f2-580b-4bcd-9669-45ccddfe3e28",
   "metadata": {},
   "outputs": [],
   "source": [
    "data = pd.DataFrame()"
   ]
  },
  {
   "cell_type": "code",
   "execution_count": null,
   "id": "ffc57730-3f83-431e-81ae-65defd6dbe23",
   "metadata": {},
   "outputs": [],
   "source": [
    "import pandas as pd\n",
    "import requests\n",
    "\n",
    "# Initialize an empty list to store data frames\n",
    "dfs = []\n",
    "\n",
    "# Iterate through the pages\n",
    "for i in range(1, 463):\n",
    "    response = requests.get('https://api.themoviedb.org/3/movie/top_rated?api_key=cd98f058f2c7a8b15341977bb27128ae&&language=en-US&page={}'.format(i))\n",
    "    temp_df = pd.DataFrame(response.json()['results'])[['id','title', 'overview' ,'release_date', 'popularity' ,'vote_average', 'vote_count']]\n",
    "    dfs.append(temp_df)\n",
    "\n",
    "# Concatenate all data frames in the list\n",
    "data = pd.concat(dfs, ignore_index=True)\n",
    "data"
   ]
  },
  {
   "cell_type": "code",
   "execution_count": null,
   "id": "5587c053-95fd-4db5-b270-45c118608b09",
   "metadata": {},
   "outputs": [],
   "source": [
    "for i in range(1, 463):\n",
    "    response = requests.get('https://api.themoviedb.org/3/movie/top_rated?api_key=cd98f058f2c7a8b15341977bb27128ae&&language=en-US&page={}'.format(i))\n",
    "    temp_df =  pd.DataFrame(response.json()['results'])[['id','title', 'overview' ,'release_date', 'popularity' ,'vote_average', 'vote_count']]\n",
    "    data = pd.concat([data, temp_df], ignore_index=True)"
   ]
  },
  {
   "cell_type": "code",
   "execution_count": null,
   "id": "c5b3d5f0-8daa-4ba2-a458-5cd64c151a12",
   "metadata": {},
   "outputs": [],
   "source": []
  },
  {
   "cell_type": "code",
   "execution_count": null,
   "id": "08d415ef-1a35-48a7-be74-845a4796c49a",
   "metadata": {},
   "outputs": [],
   "source": []
  }
 ],
 "metadata": {
  "kernelspec": {
   "display_name": "Python 3 (ipykernel)",
   "language": "python",
   "name": "python3"
  },
  "language_info": {
   "codemirror_mode": {
    "name": "ipython",
    "version": 3
   },
   "file_extension": ".py",
   "mimetype": "text/x-python",
   "name": "python",
   "nbconvert_exporter": "python",
   "pygments_lexer": "ipython3",
   "version": "3.11.5"
  },
  "widgets": {
   "application/vnd.jupyter.widget-state+json": {
    "state": {},
    "version_major": 2,
    "version_minor": 0
   }
  }
 },
 "nbformat": 4,
 "nbformat_minor": 5
}
