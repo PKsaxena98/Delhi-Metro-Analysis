{
 "cells": [
  {
   "cell_type": "code",
   "execution_count": 13,
   "id": "527d26f3-1232-4a36-9f71-b56a76d0a892",
   "metadata": {},
   "outputs": [],
   "source": [
    "import yfinance as yf\n",
    "import pandas as pd\n",
    "import os\n",
    "import warnings\n",
    "warnings.filterwarnings(\"ignore\", category=FutureWarning)"
   ]
  },
  {
   "cell_type": "code",
   "execution_count": 14,
   "id": "90ebad1a-47ec-41e3-8619-c793d9d031dc",
   "metadata": {},
   "outputs": [],
   "source": [
    "#if os.path.exists(\"sp500.csv\"):\n",
    " #   sp500 = pd.read_csv(\"sp500.csv\", index_col=0)\n",
    "#else:\n",
    " #   sp500 = yf.Ticker(\"^GSPC\")\n",
    "  #  sp500 = sp500.history(period=\"max\")\n",
    "   # sp500.to_csv(\"sp500.csv\")"
   ]
  },
  {
   "cell_type": "code",
   "execution_count": 15,
   "id": "8a5e6b2a-cefa-4de3-b080-079522ddd2a4",
   "metadata": {},
   "outputs": [],
   "source": [
    "#nb = yf.Ticker(\"^NSEBANK\")\n",
    "nb = yf.Ticker(\"^GSPC\")"
   ]
  },
  {
   "cell_type": "code",
   "execution_count": 16,
   "id": "13f8c98d-d674-4b93-8e8f-f37e734ed039",
   "metadata": {},
   "outputs": [
    {
     "data": {
      "text/html": [
       "<div>\n",
       "<style scoped>\n",
       "    .dataframe tbody tr th:only-of-type {\n",
       "        vertical-align: middle;\n",
       "    }\n",
       "\n",
       "    .dataframe tbody tr th {\n",
       "        vertical-align: top;\n",
       "    }\n",
       "\n",
       "    .dataframe thead th {\n",
       "        text-align: right;\n",
       "    }\n",
       "</style>\n",
       "<table border=\"1\" class=\"dataframe\">\n",
       "  <thead>\n",
       "    <tr style=\"text-align: right;\">\n",
       "      <th></th>\n",
       "      <th>Open</th>\n",
       "      <th>High</th>\n",
       "      <th>Low</th>\n",
       "      <th>Close</th>\n",
       "      <th>Volume</th>\n",
       "      <th>Dividends</th>\n",
       "      <th>Stock Splits</th>\n",
       "    </tr>\n",
       "    <tr>\n",
       "      <th>Date</th>\n",
       "      <th></th>\n",
       "      <th></th>\n",
       "      <th></th>\n",
       "      <th></th>\n",
       "      <th></th>\n",
       "      <th></th>\n",
       "      <th></th>\n",
       "    </tr>\n",
       "  </thead>\n",
       "  <tbody>\n",
       "    <tr>\n",
       "      <th>1927-12-30 00:00:00-05:00</th>\n",
       "      <td>17.660000</td>\n",
       "      <td>17.660000</td>\n",
       "      <td>17.660000</td>\n",
       "      <td>17.660000</td>\n",
       "      <td>0</td>\n",
       "      <td>0.0</td>\n",
       "      <td>0.0</td>\n",
       "    </tr>\n",
       "    <tr>\n",
       "      <th>1928-01-03 00:00:00-05:00</th>\n",
       "      <td>17.760000</td>\n",
       "      <td>17.760000</td>\n",
       "      <td>17.760000</td>\n",
       "      <td>17.760000</td>\n",
       "      <td>0</td>\n",
       "      <td>0.0</td>\n",
       "      <td>0.0</td>\n",
       "    </tr>\n",
       "    <tr>\n",
       "      <th>1928-01-04 00:00:00-05:00</th>\n",
       "      <td>17.719999</td>\n",
       "      <td>17.719999</td>\n",
       "      <td>17.719999</td>\n",
       "      <td>17.719999</td>\n",
       "      <td>0</td>\n",
       "      <td>0.0</td>\n",
       "      <td>0.0</td>\n",
       "    </tr>\n",
       "    <tr>\n",
       "      <th>1928-01-05 00:00:00-05:00</th>\n",
       "      <td>17.549999</td>\n",
       "      <td>17.549999</td>\n",
       "      <td>17.549999</td>\n",
       "      <td>17.549999</td>\n",
       "      <td>0</td>\n",
       "      <td>0.0</td>\n",
       "      <td>0.0</td>\n",
       "    </tr>\n",
       "    <tr>\n",
       "      <th>1928-01-06 00:00:00-05:00</th>\n",
       "      <td>17.660000</td>\n",
       "      <td>17.660000</td>\n",
       "      <td>17.660000</td>\n",
       "      <td>17.660000</td>\n",
       "      <td>0</td>\n",
       "      <td>0.0</td>\n",
       "      <td>0.0</td>\n",
       "    </tr>\n",
       "    <tr>\n",
       "      <th>...</th>\n",
       "      <td>...</td>\n",
       "      <td>...</td>\n",
       "      <td>...</td>\n",
       "      <td>...</td>\n",
       "      <td>...</td>\n",
       "      <td>...</td>\n",
       "      <td>...</td>\n",
       "    </tr>\n",
       "    <tr>\n",
       "      <th>2024-11-11 00:00:00-05:00</th>\n",
       "      <td>6008.859863</td>\n",
       "      <td>6017.310059</td>\n",
       "      <td>5986.689941</td>\n",
       "      <td>6001.350098</td>\n",
       "      <td>4333000000</td>\n",
       "      <td>0.0</td>\n",
       "      <td>0.0</td>\n",
       "    </tr>\n",
       "    <tr>\n",
       "      <th>2024-11-12 00:00:00-05:00</th>\n",
       "      <td>6003.600098</td>\n",
       "      <td>6009.919922</td>\n",
       "      <td>5960.080078</td>\n",
       "      <td>5983.990234</td>\n",
       "      <td>4243400000</td>\n",
       "      <td>0.0</td>\n",
       "      <td>0.0</td>\n",
       "    </tr>\n",
       "    <tr>\n",
       "      <th>2024-11-13 00:00:00-05:00</th>\n",
       "      <td>5985.750000</td>\n",
       "      <td>6008.189941</td>\n",
       "      <td>5965.910156</td>\n",
       "      <td>5985.379883</td>\n",
       "      <td>4220180000</td>\n",
       "      <td>0.0</td>\n",
       "      <td>0.0</td>\n",
       "    </tr>\n",
       "    <tr>\n",
       "      <th>2024-11-14 00:00:00-05:00</th>\n",
       "      <td>5989.680176</td>\n",
       "      <td>5993.879883</td>\n",
       "      <td>5942.279785</td>\n",
       "      <td>5949.169922</td>\n",
       "      <td>4184570000</td>\n",
       "      <td>0.0</td>\n",
       "      <td>0.0</td>\n",
       "    </tr>\n",
       "    <tr>\n",
       "      <th>2024-11-15 00:00:00-05:00</th>\n",
       "      <td>5912.790039</td>\n",
       "      <td>5915.319824</td>\n",
       "      <td>5853.009766</td>\n",
       "      <td>5870.620117</td>\n",
       "      <td>4590960000</td>\n",
       "      <td>0.0</td>\n",
       "      <td>0.0</td>\n",
       "    </tr>\n",
       "  </tbody>\n",
       "</table>\n",
       "<p>24337 rows × 7 columns</p>\n",
       "</div>"
      ],
      "text/plain": [
       "                                  Open         High          Low        Close  \\\n",
       "Date                                                                            \n",
       "1927-12-30 00:00:00-05:00    17.660000    17.660000    17.660000    17.660000   \n",
       "1928-01-03 00:00:00-05:00    17.760000    17.760000    17.760000    17.760000   \n",
       "1928-01-04 00:00:00-05:00    17.719999    17.719999    17.719999    17.719999   \n",
       "1928-01-05 00:00:00-05:00    17.549999    17.549999    17.549999    17.549999   \n",
       "1928-01-06 00:00:00-05:00    17.660000    17.660000    17.660000    17.660000   \n",
       "...                                ...          ...          ...          ...   \n",
       "2024-11-11 00:00:00-05:00  6008.859863  6017.310059  5986.689941  6001.350098   \n",
       "2024-11-12 00:00:00-05:00  6003.600098  6009.919922  5960.080078  5983.990234   \n",
       "2024-11-13 00:00:00-05:00  5985.750000  6008.189941  5965.910156  5985.379883   \n",
       "2024-11-14 00:00:00-05:00  5989.680176  5993.879883  5942.279785  5949.169922   \n",
       "2024-11-15 00:00:00-05:00  5912.790039  5915.319824  5853.009766  5870.620117   \n",
       "\n",
       "                               Volume  Dividends  Stock Splits  \n",
       "Date                                                            \n",
       "1927-12-30 00:00:00-05:00           0        0.0           0.0  \n",
       "1928-01-03 00:00:00-05:00           0        0.0           0.0  \n",
       "1928-01-04 00:00:00-05:00           0        0.0           0.0  \n",
       "1928-01-05 00:00:00-05:00           0        0.0           0.0  \n",
       "1928-01-06 00:00:00-05:00           0        0.0           0.0  \n",
       "...                               ...        ...           ...  \n",
       "2024-11-11 00:00:00-05:00  4333000000        0.0           0.0  \n",
       "2024-11-12 00:00:00-05:00  4243400000        0.0           0.0  \n",
       "2024-11-13 00:00:00-05:00  4220180000        0.0           0.0  \n",
       "2024-11-14 00:00:00-05:00  4184570000        0.0           0.0  \n",
       "2024-11-15 00:00:00-05:00  4590960000        0.0           0.0  \n",
       "\n",
       "[24337 rows x 7 columns]"
      ]
     },
     "execution_count": 16,
     "metadata": {},
     "output_type": "execute_result"
    }
   ],
   "source": [
    "nb = nb.history(period=\"max\")\n",
    "nb"
   ]
  },
  {
   "cell_type": "code",
   "execution_count": 17,
   "id": "4ca934c3-1513-4eb6-abf1-7c7492ff70d2",
   "metadata": {},
   "outputs": [],
   "source": [
    "#nb['Date'] = nb.index.date"
   ]
  },
  {
   "cell_type": "code",
   "execution_count": 18,
   "id": "bf882103-c50b-4cdb-bbf9-28956446f3dc",
   "metadata": {},
   "outputs": [],
   "source": [
    "# Convert the column to datetime (adjust based on your actual column name)\n",
    "#nb['Dates'] = pd.to_datetime(nb['Date'])\n",
    "\n",
    "# Remove the time component\n",
    "#nb['Date_only'] = nb['Dates'].dt.date\n"
   ]
  },
  {
   "cell_type": "markdown",
   "id": "338db0e0-826d-4908-95db-85b2e5175c1a",
   "metadata": {},
   "source": [
    "Data Preprocessing"
   ]
  },
  {
   "cell_type": "code",
   "execution_count": 19,
   "id": "6dd9cd8e-47bd-4293-9f1c-7d2e1c47bc78",
   "metadata": {},
   "outputs": [
    {
     "data": {
      "text/plain": [
       "Open            0\n",
       "High            0\n",
       "Low             0\n",
       "Close           0\n",
       "Volume          0\n",
       "Dividends       0\n",
       "Stock Splits    0\n",
       "dtype: int64"
      ]
     },
     "execution_count": 19,
     "metadata": {},
     "output_type": "execute_result"
    }
   ],
   "source": [
    "nb.isnull().sum()"
   ]
  },
  {
   "cell_type": "code",
   "execution_count": 20,
   "id": "b04e8bb1-b8a4-45d4-8c07-a1fc62a92d29",
   "metadata": {},
   "outputs": [
    {
     "data": {
      "text/plain": [
       "DatetimeIndex(['1927-12-30 00:00:00-05:00', '1928-01-03 00:00:00-05:00',\n",
       "               '1928-01-04 00:00:00-05:00', '1928-01-05 00:00:00-05:00',\n",
       "               '1928-01-06 00:00:00-05:00', '1928-01-09 00:00:00-05:00',\n",
       "               '1928-01-10 00:00:00-05:00', '1928-01-11 00:00:00-05:00',\n",
       "               '1928-01-12 00:00:00-05:00', '1928-01-13 00:00:00-05:00',\n",
       "               ...\n",
       "               '2024-11-04 00:00:00-05:00', '2024-11-05 00:00:00-05:00',\n",
       "               '2024-11-06 00:00:00-05:00', '2024-11-07 00:00:00-05:00',\n",
       "               '2024-11-08 00:00:00-05:00', '2024-11-11 00:00:00-05:00',\n",
       "               '2024-11-12 00:00:00-05:00', '2024-11-13 00:00:00-05:00',\n",
       "               '2024-11-14 00:00:00-05:00', '2024-11-15 00:00:00-05:00'],\n",
       "              dtype='datetime64[ns, America/New_York]', name='Date', length=24337, freq=None)"
      ]
     },
     "execution_count": 20,
     "metadata": {},
     "output_type": "execute_result"
    }
   ],
   "source": [
    "nb.index"
   ]
  },
  {
   "cell_type": "code",
   "execution_count": 21,
   "id": "b30669e6-9fd0-4d4f-884b-e26a4908e4d1",
   "metadata": {},
   "outputs": [
    {
     "data": {
      "text/plain": [
       "<Axes: xlabel='Date'>"
      ]
     },
     "execution_count": 21,
     "metadata": {},
     "output_type": "execute_result"
    },
    {
     "data": {
      "image/png": "[encoded data removed]",
      "text/plain": [
       "<Figure size 640x480 with 1 Axes>"
      ]
     },
     "metadata": {},
     "output_type": "display_data"
    }
   ],
   "source": [
    "nb.plot.line(y=\"Close\" , use_index = True)"
   ]
  },
  {
   "cell_type": "code",
   "execution_count": 22,
   "id": "125c7e06-5c77-4ddf-9e71-0c8a76844d13",
   "metadata": {},
   "outputs": [
    {
     "name": "stdout",
     "output_type": "stream",
     "text": [
      "<class 'pandas.core.frame.DataFrame'>\n",
      "DatetimeIndex: 24337 entries, 1927-12-30 00:00:00-05:00 to 2024-11-15 00:00:00-05:00\n",
      "Data columns (total 7 columns):\n",
      " #   Column        Non-Null Count  Dtype  \n",
      "---  ------        --------------  -----  \n",
      " 0   Open          24337 non-null  float64\n",
      " 1   High          24337 non-null  float64\n",
      " 2   Low           24337 non-null  float64\n",
      " 3   Close         24337 non-null  float64\n",
      " 4   Volume        24337 non-null  int64  \n",
      " 5   Dividends     24337 non-null  float64\n",
      " 6   Stock Splits  24337 non-null  float64\n",
      "dtypes: float64(6), int64(1)\n",
      "memory usage: 1.5 MB\n"
     ]
    }
   ],
   "source": [
    "nb.info()"
   ]
  },
  {
   "cell_type": "code",
   "execution_count": 23,
   "id": "a1c69d1b-d5b6-4613-af20-04e7fb9b0a5e",
   "metadata": {},
   "outputs": [],
   "source": [
    "del nb[\"Dividends\"]\n",
    "del nb[\"Stock Splits\"]"
   ]
  },
  {
   "cell_type": "code",
   "execution_count": 24,
   "id": "bba4cc41-92a9-49f7-a5af-c86b3c2a3f6f",
   "metadata": {},
   "outputs": [
    {
     "data": {
      "text/html": [
       "<div>\n",
       "<style scoped>\n",
       "    .dataframe tbody tr th:only-of-type {\n",
       "        vertical-align: middle;\n",
       "    }\n",
       "\n",
       "    .dataframe tbody tr th {\n",
       "        vertical-align: top;\n",
       "    }\n",
       "\n",
       "    .dataframe thead th {\n",
       "        text-align: right;\n",
       "    }\n",
       "</style>\n",
       "<table border=\"1\" class=\"dataframe\">\n",
       "  <thead>\n",
       "    <tr style=\"text-align: right;\">\n",
       "      <th></th>\n",
       "      <th>Open</th>\n",
       "      <th>High</th>\n",
       "      <th>Low</th>\n",
       "      <th>Close</th>\n",
       "      <th>Volume</th>\n",
       "    </tr>\n",
       "    <tr>\n",
       "      <th>Date</th>\n",
       "      <th></th>\n",
       "      <th></th>\n",
       "      <th></th>\n",
       "      <th></th>\n",
       "      <th></th>\n",
       "    </tr>\n",
       "  </thead>\n",
       "  <tbody>\n",
       "    <tr>\n",
       "      <th>1927-12-30 00:00:00-05:00</th>\n",
       "      <td>17.660000</td>\n",
       "      <td>17.660000</td>\n",
       "      <td>17.660000</td>\n",
       "      <td>17.660000</td>\n",
       "      <td>0</td>\n",
       "    </tr>\n",
       "    <tr>\n",
       "      <th>1928-01-03 00:00:00-05:00</th>\n",
       "      <td>17.760000</td>\n",
       "      <td>17.760000</td>\n",
       "      <td>17.760000</td>\n",
       "      <td>17.760000</td>\n",
       "      <td>0</td>\n",
       "    </tr>\n",
       "    <tr>\n",
       "      <th>1928-01-04 00:00:00-05:00</th>\n",
       "      <td>17.719999</td>\n",
       "      <td>17.719999</td>\n",
       "      <td>17.719999</td>\n",
       "      <td>17.719999</td>\n",
       "      <td>0</td>\n",
       "    </tr>\n",
       "    <tr>\n",
       "      <th>1928-01-05 00:00:00-05:00</th>\n",
       "      <td>17.549999</td>\n",
       "      <td>17.549999</td>\n",
       "      <td>17.549999</td>\n",
       "      <td>17.549999</td>\n",
       "      <td>0</td>\n",
       "    </tr>\n",
       "    <tr>\n",
       "      <th>1928-01-06 00:00:00-05:00</th>\n",
       "      <td>17.660000</td>\n",
       "      <td>17.660000</td>\n",
       "      <td>17.660000</td>\n",
       "      <td>17.660000</td>\n",
       "      <td>0</td>\n",
       "    </tr>\n",
       "  </tbody>\n",
       "</table>\n",
       "</div>"
      ],
      "text/plain": [
       "                                Open       High        Low      Close  Volume\n",
       "Date                                                                         \n",
       "1927-12-30 00:00:00-05:00  17.660000  17.660000  17.660000  17.660000       0\n",
       "1928-01-03 00:00:00-05:00  17.760000  17.760000  17.760000  17.760000       0\n",
       "1928-01-04 00:00:00-05:00  17.719999  17.719999  17.719999  17.719999       0\n",
       "1928-01-05 00:00:00-05:00  17.549999  17.549999  17.549999  17.549999       0\n",
       "1928-01-06 00:00:00-05:00  17.660000  17.660000  17.660000  17.660000       0"
      ]
     },
     "execution_count": 24,
     "metadata": {},
     "output_type": "execute_result"
    }
   ],
   "source": [
    "nb.head()"
   ]
  },
  {
   "cell_type": "code",
   "execution_count": 25,
   "id": "55eb5fe2-f824-445f-80e1-f661c7ceac83",
   "metadata": {},
   "outputs": [
    {
     "data": {
      "text/html": [
       "<div>\n",
       "<style scoped>\n",
       "    .dataframe tbody tr th:only-of-type {\n",
       "        vertical-align: middle;\n",
       "    }\n",
       "\n",
       "    .dataframe tbody tr th {\n",
       "        vertical-align: top;\n",
       "    }\n",
       "\n",
       "    .dataframe thead th {\n",
       "        text-align: right;\n",
       "    }\n",
       "</style>\n",
       "<table border=\"1\" class=\"dataframe\">\n",
       "  <thead>\n",
       "    <tr style=\"text-align: right;\">\n",
       "      <th></th>\n",
       "      <th>Open</th>\n",
       "      <th>High</th>\n",
       "      <th>Low</th>\n",
       "      <th>Close</th>\n",
       "      <th>Volume</th>\n",
       "    </tr>\n",
       "    <tr>\n",
       "      <th>Date</th>\n",
       "      <th></th>\n",
       "      <th></th>\n",
       "      <th></th>\n",
       "      <th></th>\n",
       "      <th></th>\n",
       "    </tr>\n",
       "  </thead>\n",
       "  <tbody>\n",
       "    <tr>\n",
       "      <th>2024-11-11 00:00:00-05:00</th>\n",
       "      <td>6008.859863</td>\n",
       "      <td>6017.310059</td>\n",
       "      <td>5986.689941</td>\n",
       "      <td>6001.350098</td>\n",
       "      <td>4333000000</td>\n",
       "    </tr>\n",
       "    <tr>\n",
       "      <th>2024-11-12 00:00:00-05:00</th>\n",
       "      <td>6003.600098</td>\n",
       "      <td>6009.919922</td>\n",
       "      <td>5960.080078</td>\n",
       "      <td>5983.990234</td>\n",
       "      <td>4243400000</td>\n",
       "    </tr>\n",
       "    <tr>\n",
       "      <th>2024-11-13 00:00:00-05:00</th>\n",
       "      <td>5985.750000</td>\n",
       "      <td>6008.189941</td>\n",
       "      <td>5965.910156</td>\n",
       "      <td>5985.379883</td>\n",
       "      <td>4220180000</td>\n",
       "    </tr>\n",
       "    <tr>\n",
       "      <th>2024-11-14 00:00:00-05:00</th>\n",
       "      <td>5989.680176</td>\n",
       "      <td>5993.879883</td>\n",
       "      <td>5942.279785</td>\n",
       "      <td>5949.169922</td>\n",
       "      <td>4184570000</td>\n",
       "    </tr>\n",
       "    <tr>\n",
       "      <th>2024-11-15 00:00:00-05:00</th>\n",
       "      <td>5912.790039</td>\n",
       "      <td>5915.319824</td>\n",
       "      <td>5853.009766</td>\n",
       "      <td>5870.620117</td>\n",
       "      <td>4590960000</td>\n",
       "    </tr>\n",
       "  </tbody>\n",
       "</table>\n",
       "</div>"
      ],
      "text/plain": [
       "                                  Open         High          Low        Close  \\\n",
       "Date                                                                            \n",
       "2024-11-11 00:00:00-05:00  6008.859863  6017.310059  5986.689941  6001.350098   \n",
       "2024-11-12 00:00:00-05:00  6003.600098  6009.919922  5960.080078  5983.990234   \n",
       "2024-11-13 00:00:00-05:00  5985.750000  6008.189941  5965.910156  5985.379883   \n",
       "2024-11-14 00:00:00-05:00  5989.680176  5993.879883  5942.279785  5949.169922   \n",
       "2024-11-15 00:00:00-05:00  5912.790039  5915.319824  5853.009766  5870.620117   \n",
       "\n",
       "                               Volume  \n",
       "Date                                   \n",
       "2024-11-11 00:00:00-05:00  4333000000  \n",
       "2024-11-12 00:00:00-05:00  4243400000  \n",
       "2024-11-13 00:00:00-05:00  4220180000  \n",
       "2024-11-14 00:00:00-05:00  4184570000  \n",
       "2024-11-15 00:00:00-05:00  4590960000  "
      ]
     },
     "execution_count": 25,
     "metadata": {},
     "output_type": "execute_result"
    }
   ],
   "source": [
    "nb.tail()"
   ]
  },
  {
   "cell_type": "code",
   "execution_count": 26,
   "id": "bd28c64c-d669-4614-8fd5-a755766dd86f",
   "metadata": {},
   "outputs": [
    {
     "data": {
      "text/html": [
       "<div>\n",
       "<style scoped>\n",
       "    .dataframe tbody tr th:only-of-type {\n",
       "        vertical-align: middle;\n",
       "    }\n",
       "\n",
       "    .dataframe tbody tr th {\n",
       "        vertical-align: top;\n",
       "    }\n",
       "\n",
       "    .dataframe thead th {\n",
       "        text-align: right;\n",
       "    }\n",
       "</style>\n",
       "<table border=\"1\" class=\"dataframe\">\n",
       "  <thead>\n",
       "    <tr style=\"text-align: right;\">\n",
       "      <th></th>\n",
       "      <th>Open</th>\n",
       "      <th>High</th>\n",
       "      <th>Low</th>\n",
       "      <th>Close</th>\n",
       "      <th>Volume</th>\n",
       "      <th>Tomorrow</th>\n",
       "    </tr>\n",
       "    <tr>\n",
       "      <th>Date</th>\n",
       "      <th></th>\n",
       "      <th></th>\n",
       "      <th></th>\n",
       "      <th></th>\n",
       "      <th></th>\n",
       "      <th></th>\n",
       "    </tr>\n",
       "  </thead>\n",
       "  <tbody>\n",
       "    <tr>\n",
       "      <th>1927-12-30 00:00:00-05:00</th>\n",
       "      <td>17.660000</td>\n",
       "      <td>17.660000</td>\n",
       "      <td>17.660000</td>\n",
       "      <td>17.660000</td>\n",
       "      <td>0</td>\n",
       "      <td>17.760000</td>\n",
       "    </tr>\n",
       "    <tr>\n",
       "      <th>1928-01-03 00:00:00-05:00</th>\n",
       "      <td>17.760000</td>\n",
       "      <td>17.760000</td>\n",
       "      <td>17.760000</td>\n",
       "      <td>17.760000</td>\n",
       "      <td>0</td>\n",
       "      <td>17.719999</td>\n",
       "    </tr>\n",
       "    <tr>\n",
       "      <th>1928-01-04 00:00:00-05:00</th>\n",
       "      <td>17.719999</td>\n",
       "      <td>17.719999</td>\n",
       "      <td>17.719999</td>\n",
       "      <td>17.719999</td>\n",
       "      <td>0</td>\n",
       "      <td>17.549999</td>\n",
       "    </tr>\n",
       "    <tr>\n",
       "      <th>1928-01-05 00:00:00-05:00</th>\n",
       "      <td>17.549999</td>\n",
       "      <td>17.549999</td>\n",
       "      <td>17.549999</td>\n",
       "      <td>17.549999</td>\n",
       "      <td>0</td>\n",
       "      <td>17.660000</td>\n",
       "    </tr>\n",
       "    <tr>\n",
       "      <th>1928-01-06 00:00:00-05:00</th>\n",
       "      <td>17.660000</td>\n",
       "      <td>17.660000</td>\n",
       "      <td>17.660000</td>\n",
       "      <td>17.660000</td>\n",
       "      <td>0</td>\n",
       "      <td>17.500000</td>\n",
       "    </tr>\n",
       "    <tr>\n",
       "      <th>...</th>\n",
       "      <td>...</td>\n",
       "      <td>...</td>\n",
       "      <td>...</td>\n",
       "      <td>...</td>\n",
       "      <td>...</td>\n",
       "      <td>...</td>\n",
       "    </tr>\n",
       "    <tr>\n",
       "      <th>2024-11-11 00:00:00-05:00</th>\n",
       "      <td>6008.859863</td>\n",
       "      <td>6017.310059</td>\n",
       "      <td>5986.689941</td>\n",
       "      <td>6001.350098</td>\n",
       "      <td>4333000000</td>\n",
       "      <td>5983.990234</td>\n",
       "    </tr>\n",
       "    <tr>\n",
       "      <th>2024-11-12 00:00:00-05:00</th>\n",
       "      <td>6003.600098</td>\n",
       "      <td>6009.919922</td>\n",
       "      <td>5960.080078</td>\n",
       "      <td>5983.990234</td>\n",
       "      <td>4243400000</td>\n",
       "      <td>5985.379883</td>\n",
       "    </tr>\n",
       "    <tr>\n",
       "      <th>2024-11-13 00:00:00-05:00</th>\n",
       "      <td>5985.750000</td>\n",
       "      <td>6008.189941</td>\n",
       "      <td>5965.910156</td>\n",
       "      <td>5985.379883</td>\n",
       "      <td>4220180000</td>\n",
       "      <td>5949.169922</td>\n",
       "    </tr>\n",
       "    <tr>\n",
       "      <th>2024-11-14 00:00:00-05:00</th>\n",
       "      <td>5989.680176</td>\n",
       "      <td>5993.879883</td>\n",
       "      <td>5942.279785</td>\n",
       "      <td>5949.169922</td>\n",
       "      <td>4184570000</td>\n",
       "      <td>5870.620117</td>\n",
       "    </tr>\n",
       "    <tr>\n",
       "      <th>2024-11-15 00:00:00-05:00</th>\n",
       "      <td>5912.790039</td>\n",
       "      <td>5915.319824</td>\n",
       "      <td>5853.009766</td>\n",
       "      <td>5870.620117</td>\n",
       "      <td>4590960000</td>\n",
       "      <td>NaN</td>\n",
       "    </tr>\n",
       "  </tbody>\n",
       "</table>\n",
       "<p>24337 rows × 6 columns</p>\n",
       "</div>"
      ],
      "text/plain": [
       "                                  Open         High          Low        Close  \\\n",
       "Date                                                                            \n",
       "1927-12-30 00:00:00-05:00    17.660000    17.660000    17.660000    17.660000   \n",
       "1928-01-03 00:00:00-05:00    17.760000    17.760000    17.760000    17.760000   \n",
       "1928-01-04 00:00:00-05:00    17.719999    17.719999    17.719999    17.719999   \n",
       "1928-01-05 00:00:00-05:00    17.549999    17.549999    17.549999    17.549999   \n",
       "1928-01-06 00:00:00-05:00    17.660000    17.660000    17.660000    17.660000   \n",
       "...                                ...          ...          ...          ...   \n",
       "2024-11-11 00:00:00-05:00  6008.859863  6017.310059  5986.689941  6001.350098   \n",
       "2024-11-12 00:00:00-05:00  6003.600098  6009.919922  5960.080078  5983.990234   \n",
       "2024-11-13 00:00:00-05:00  5985.750000  6008.189941  5965.910156  5985.379883   \n",
       "2024-11-14 00:00:00-05:00  5989.680176  5993.879883  5942.279785  5949.169922   \n",
       "2024-11-15 00:00:00-05:00  5912.790039  5915.319824  5853.009766  5870.620117   \n",
       "\n",
       "                               Volume     Tomorrow  \n",
       "Date                                                \n",
       "1927-12-30 00:00:00-05:00           0    17.760000  \n",
       "1928-01-03 00:00:00-05:00           0    17.719999  \n",
       "1928-01-04 00:00:00-05:00           0    17.549999  \n",
       "1928-01-05 00:00:00-05:00           0    17.660000  \n",
       "1928-01-06 00:00:00-05:00           0    17.500000  \n",
       "...                               ...          ...  \n",
       "2024-11-11 00:00:00-05:00  4333000000  5983.990234  \n",
       "2024-11-12 00:00:00-05:00  4243400000  5985.379883  \n",
       "2024-11-13 00:00:00-05:00  4220180000  5949.169922  \n",
       "2024-11-14 00:00:00-05:00  4184570000  5870.620117  \n",
       "2024-11-15 00:00:00-05:00  4590960000          NaN  \n",
       "\n",
       "[24337 rows x 6 columns]"
      ]
     },
     "execution_count": 26,
     "metadata": {},
     "output_type": "execute_result"
    }
   ],
   "source": [
    "nb[\"Tomorrow\"] = nb[\"Close\"].shift(-1)\n",
    "nb"
   ]
  },
  {
   "cell_type": "code",
   "execution_count": 27,
   "id": "6bc9d226-cc20-489f-99c1-1fa774e51320",
   "metadata": {},
   "outputs": [
    {
     "data": {
      "text/html": [
       "<div>\n",
       "<style scoped>\n",
       "    .dataframe tbody tr th:only-of-type {\n",
       "        vertical-align: middle;\n",
       "    }\n",
       "\n",
       "    .dataframe tbody tr th {\n",
       "        vertical-align: top;\n",
       "    }\n",
       "\n",
       "    .dataframe thead th {\n",
       "        text-align: right;\n",
       "    }\n",
       "</style>\n",
       "<table border=\"1\" class=\"dataframe\">\n",
       "  <thead>\n",
       "    <tr style=\"text-align: right;\">\n",
       "      <th></th>\n",
       "      <th>Open</th>\n",
       "      <th>High</th>\n",
       "      <th>Low</th>\n",
       "      <th>Close</th>\n",
       "      <th>Volume</th>\n",
       "      <th>Tomorrow</th>\n",
       "      <th>Target</th>\n",
       "    </tr>\n",
       "    <tr>\n",
       "      <th>Date</th>\n",
       "      <th></th>\n",
       "      <th></th>\n",
       "      <th></th>\n",
       "      <th></th>\n",
       "      <th></th>\n",
       "      <th></th>\n",
       "      <th></th>\n",
       "    </tr>\n",
       "  </thead>\n",
       "  <tbody>\n",
       "    <tr>\n",
       "      <th>1927-12-30 00:00:00-05:00</th>\n",
       "      <td>17.660000</td>\n",
       "      <td>17.660000</td>\n",
       "      <td>17.660000</td>\n",
       "      <td>17.660000</td>\n",
       "      <td>0</td>\n",
       "      <td>17.760000</td>\n",
       "      <td>1</td>\n",
       "    </tr>\n",
       "    <tr>\n",
       "      <th>1928-01-03 00:00:00-05:00</th>\n",
       "      <td>17.760000</td>\n",
       "      <td>17.760000</td>\n",
       "      <td>17.760000</td>\n",
       "      <td>17.760000</td>\n",
       "      <td>0</td>\n",
       "      <td>17.719999</td>\n",
       "      <td>0</td>\n",
       "    </tr>\n",
       "    <tr>\n",
       "      <th>1928-01-04 00:00:00-05:00</th>\n",
       "      <td>17.719999</td>\n",
       "      <td>17.719999</td>\n",
       "      <td>17.719999</td>\n",
       "      <td>17.719999</td>\n",
       "      <td>0</td>\n",
       "      <td>17.549999</td>\n",
       "      <td>0</td>\n",
       "    </tr>\n",
       "    <tr>\n",
       "      <th>1928-01-05 00:00:00-05:00</th>\n",
       "      <td>17.549999</td>\n",
       "      <td>17.549999</td>\n",
       "      <td>17.549999</td>\n",
       "      <td>17.549999</td>\n",
       "      <td>0</td>\n",
       "      <td>17.660000</td>\n",
       "      <td>1</td>\n",
       "    </tr>\n",
       "    <tr>\n",
       "      <th>1928-01-06 00:00:00-05:00</th>\n",
       "      <td>17.660000</td>\n",
       "      <td>17.660000</td>\n",
       "      <td>17.660000</td>\n",
       "      <td>17.660000</td>\n",
       "      <td>0</td>\n",
       "      <td>17.500000</td>\n",
       "      <td>0</td>\n",
       "    </tr>\n",
       "    <tr>\n",
       "      <th>...</th>\n",
       "      <td>...</td>\n",
       "      <td>...</td>\n",
       "      <td>...</td>\n",
       "      <td>...</td>\n",
       "      <td>...</td>\n",
       "      <td>...</td>\n",
       "      <td>...</td>\n",
       "    </tr>\n",
       "    <tr>\n",
       "      <th>2024-11-11 00:00:00-05:00</th>\n",
       "      <td>6008.859863</td>\n",
       "      <td>6017.310059</td>\n",
       "      <td>5986.689941</td>\n",
       "      <td>6001.350098</td>\n",
       "      <td>4333000000</td>\n",
       "      <td>5983.990234</td>\n",
       "      <td>0</td>\n",
       "    </tr>\n",
       "    <tr>\n",
       "      <th>2024-11-12 00:00:00-05:00</th>\n",
       "      <td>6003.600098</td>\n",
       "      <td>6009.919922</td>\n",
       "      <td>5960.080078</td>\n",
       "      <td>5983.990234</td>\n",
       "      <td>4243400000</td>\n",
       "      <td>5985.379883</td>\n",
       "      <td>1</td>\n",
       "    </tr>\n",
       "    <tr>\n",
       "      <th>2024-11-13 00:00:00-05:00</th>\n",
       "      <td>5985.750000</td>\n",
       "      <td>6008.189941</td>\n",
       "      <td>5965.910156</td>\n",
       "      <td>5985.379883</td>\n",
       "      <td>4220180000</td>\n",
       "      <td>5949.169922</td>\n",
       "      <td>0</td>\n",
       "    </tr>\n",
       "    <tr>\n",
       "      <th>2024-11-14 00:00:00-05:00</th>\n",
       "      <td>5989.680176</td>\n",
       "      <td>5993.879883</td>\n",
       "      <td>5942.279785</td>\n",
       "      <td>5949.169922</td>\n",
       "      <td>4184570000</td>\n",
       "      <td>5870.620117</td>\n",
       "      <td>0</td>\n",
       "    </tr>\n",
       "    <tr>\n",
       "      <th>2024-11-15 00:00:00-05:00</th>\n",
       "      <td>5912.790039</td>\n",
       "      <td>5915.319824</td>\n",
       "      <td>5853.009766</td>\n",
       "      <td>5870.620117</td>\n",
       "      <td>4590960000</td>\n",
       "      <td>NaN</td>\n",
       "      <td>0</td>\n",
       "    </tr>\n",
       "  </tbody>\n",
       "</table>\n",
       "<p>24337 rows × 7 columns</p>\n",
       "</div>"
      ],
      "text/plain": [
       "                                  Open         High          Low        Close  \\\n",
       "Date                                                                            \n",
       "1927-12-30 00:00:00-05:00    17.660000    17.660000    17.660000    17.660000   \n",
       "1928-01-03 00:00:00-05:00    17.760000    17.760000    17.760000    17.760000   \n",
       "1928-01-04 00:00:00-05:00    17.719999    17.719999    17.719999    17.719999   \n",
       "1928-01-05 00:00:00-05:00    17.549999    17.549999    17.549999    17.549999   \n",
       "1928-01-06 00:00:00-05:00    17.660000    17.660000    17.660000    17.660000   \n",
       "...                                ...          ...          ...          ...   \n",
       "2024-11-11 00:00:00-05:00  6008.859863  6017.310059  5986.689941  6001.350098   \n",
       "2024-11-12 00:00:00-05:00  6003.600098  6009.919922  5960.080078  5983.990234   \n",
       "2024-11-13 00:00:00-05:00  5985.750000  6008.189941  5965.910156  5985.379883   \n",
       "2024-11-14 00:00:00-05:00  5989.680176  5993.879883  5942.279785  5949.169922   \n",
       "2024-11-15 00:00:00-05:00  5912.790039  5915.319824  5853.009766  5870.620117   \n",
       "\n",
       "                               Volume     Tomorrow  Target  \n",
       "Date                                                        \n",
       "1927-12-30 00:00:00-05:00           0    17.760000       1  \n",
       "1928-01-03 00:00:00-05:00           0    17.719999       0  \n",
       "1928-01-04 00:00:00-05:00           0    17.549999       0  \n",
       "1928-01-05 00:00:00-05:00           0    17.660000       1  \n",
       "1928-01-06 00:00:00-05:00           0    17.500000       0  \n",
       "...                               ...          ...     ...  \n",
       "2024-11-11 00:00:00-05:00  4333000000  5983.990234       0  \n",
       "2024-11-12 00:00:00-05:00  4243400000  5985.379883       1  \n",
       "2024-11-13 00:00:00-05:00  4220180000  5949.169922       0  \n",
       "2024-11-14 00:00:00-05:00  4184570000  5870.620117       0  \n",
       "2024-11-15 00:00:00-05:00  4590960000          NaN       0  \n",
       "\n",
       "[24337 rows x 7 columns]"
      ]
     },
     "execution_count": 27,
     "metadata": {},
     "output_type": "execute_result"
    }
   ],
   "source": [
    "nb[\"Target\"] = (nb[\"Tomorrow\"] > nb[\"Close\"]).astype(int)\n",
    "nb"
   ]
  },
  {
   "cell_type": "code",
   "execution_count": 28,
   "id": "9f15a209-97c0-4fed-baf8-ca79084171f3",
   "metadata": {},
   "outputs": [
    {
     "data": {
      "text/html": [
       "<div>\n",
       "<style scoped>\n",
       "    .dataframe tbody tr th:only-of-type {\n",
       "        vertical-align: middle;\n",
       "    }\n",
       "\n",
       "    .dataframe tbody tr th {\n",
       "        vertical-align: top;\n",
       "    }\n",
       "\n",
       "    .dataframe thead th {\n",
       "        text-align: right;\n",
       "    }\n",
       "</style>\n",
       "<table border=\"1\" class=\"dataframe\">\n",
       "  <thead>\n",
       "    <tr style=\"text-align: right;\">\n",
       "      <th></th>\n",
       "      <th>Open</th>\n",
       "      <th>High</th>\n",
       "      <th>Low</th>\n",
       "      <th>Close</th>\n",
       "      <th>Volume</th>\n",
       "      <th>Tomorrow</th>\n",
       "      <th>Target</th>\n",
       "    </tr>\n",
       "    <tr>\n",
       "      <th>Date</th>\n",
       "      <th></th>\n",
       "      <th></th>\n",
       "      <th></th>\n",
       "      <th></th>\n",
       "      <th></th>\n",
       "      <th></th>\n",
       "      <th></th>\n",
       "    </tr>\n",
       "  </thead>\n",
       "  <tbody>\n",
       "    <tr>\n",
       "      <th>1990-01-02 00:00:00-05:00</th>\n",
       "      <td>353.399994</td>\n",
       "      <td>359.690002</td>\n",
       "      <td>351.980011</td>\n",
       "      <td>359.690002</td>\n",
       "      <td>162070000</td>\n",
       "      <td>358.760010</td>\n",
       "      <td>0</td>\n",
       "    </tr>\n",
       "    <tr>\n",
       "      <th>1990-01-03 00:00:00-05:00</th>\n",
       "      <td>359.690002</td>\n",
       "      <td>360.589996</td>\n",
       "      <td>357.890015</td>\n",
       "      <td>358.760010</td>\n",
       "      <td>192330000</td>\n",
       "      <td>355.670013</td>\n",
       "      <td>0</td>\n",
       "    </tr>\n",
       "    <tr>\n",
       "      <th>1990-01-04 00:00:00-05:00</th>\n",
       "      <td>358.760010</td>\n",
       "      <td>358.760010</td>\n",
       "      <td>352.890015</td>\n",
       "      <td>355.670013</td>\n",
       "      <td>177000000</td>\n",
       "      <td>352.200012</td>\n",
       "      <td>0</td>\n",
       "    </tr>\n",
       "    <tr>\n",
       "      <th>1990-01-05 00:00:00-05:00</th>\n",
       "      <td>355.670013</td>\n",
       "      <td>355.670013</td>\n",
       "      <td>351.350006</td>\n",
       "      <td>352.200012</td>\n",
       "      <td>158530000</td>\n",
       "      <td>353.790009</td>\n",
       "      <td>1</td>\n",
       "    </tr>\n",
       "    <tr>\n",
       "      <th>1990-01-08 00:00:00-05:00</th>\n",
       "      <td>352.200012</td>\n",
       "      <td>354.239990</td>\n",
       "      <td>350.540009</td>\n",
       "      <td>353.790009</td>\n",
       "      <td>140110000</td>\n",
       "      <td>349.619995</td>\n",
       "      <td>0</td>\n",
       "    </tr>\n",
       "    <tr>\n",
       "      <th>...</th>\n",
       "      <td>...</td>\n",
       "      <td>...</td>\n",
       "      <td>...</td>\n",
       "      <td>...</td>\n",
       "      <td>...</td>\n",
       "      <td>...</td>\n",
       "      <td>...</td>\n",
       "    </tr>\n",
       "    <tr>\n",
       "      <th>2024-11-11 00:00:00-05:00</th>\n",
       "      <td>6008.859863</td>\n",
       "      <td>6017.310059</td>\n",
       "      <td>5986.689941</td>\n",
       "      <td>6001.350098</td>\n",
       "      <td>4333000000</td>\n",
       "      <td>5983.990234</td>\n",
       "      <td>0</td>\n",
       "    </tr>\n",
       "    <tr>\n",
       "      <th>2024-11-12 00:00:00-05:00</th>\n",
       "      <td>6003.600098</td>\n",
       "      <td>6009.919922</td>\n",
       "      <td>5960.080078</td>\n",
       "      <td>5983.990234</td>\n",
       "      <td>4243400000</td>\n",
       "      <td>5985.379883</td>\n",
       "      <td>1</td>\n",
       "    </tr>\n",
       "    <tr>\n",
       "      <th>2024-11-13 00:00:00-05:00</th>\n",
       "      <td>5985.750000</td>\n",
       "      <td>6008.189941</td>\n",
       "      <td>5965.910156</td>\n",
       "      <td>5985.379883</td>\n",
       "      <td>4220180000</td>\n",
       "      <td>5949.169922</td>\n",
       "      <td>0</td>\n",
       "    </tr>\n",
       "    <tr>\n",
       "      <th>2024-11-14 00:00:00-05:00</th>\n",
       "      <td>5989.680176</td>\n",
       "      <td>5993.879883</td>\n",
       "      <td>5942.279785</td>\n",
       "      <td>5949.169922</td>\n",
       "      <td>4184570000</td>\n",
       "      <td>5870.620117</td>\n",
       "      <td>0</td>\n",
       "    </tr>\n",
       "    <tr>\n",
       "      <th>2024-11-15 00:00:00-05:00</th>\n",
       "      <td>5912.790039</td>\n",
       "      <td>5915.319824</td>\n",
       "      <td>5853.009766</td>\n",
       "      <td>5870.620117</td>\n",
       "      <td>4590960000</td>\n",
       "      <td>NaN</td>\n",
       "      <td>0</td>\n",
       "    </tr>\n",
       "  </tbody>\n",
       "</table>\n",
       "<p>8787 rows × 7 columns</p>\n",
       "</div>"
      ],
      "text/plain": [
       "                                  Open         High          Low        Close  \\\n",
       "Date                                                                            \n",
       "1990-01-02 00:00:00-05:00   353.399994   359.690002   351.980011   359.690002   \n",
       "1990-01-03 00:00:00-05:00   359.690002   360.589996   357.890015   358.760010   \n",
       "1990-01-04 00:00:00-05:00   358.760010   358.760010   352.890015   355.670013   \n",
       "1990-01-05 00:00:00-05:00   355.670013   355.670013   351.350006   352.200012   \n",
       "1990-01-08 00:00:00-05:00   352.200012   354.239990   350.540009   353.790009   \n",
       "...                                ...          ...          ...          ...   \n",
       "2024-11-11 00:00:00-05:00  6008.859863  6017.310059  5986.689941  6001.350098   \n",
       "2024-11-12 00:00:00-05:00  6003.600098  6009.919922  5960.080078  5983.990234   \n",
       "2024-11-13 00:00:00-05:00  5985.750000  6008.189941  5965.910156  5985.379883   \n",
       "2024-11-14 00:00:00-05:00  5989.680176  5993.879883  5942.279785  5949.169922   \n",
       "2024-11-15 00:00:00-05:00  5912.790039  5915.319824  5853.009766  5870.620117   \n",
       "\n",
       "                               Volume     Tomorrow  Target  \n",
       "Date                                                        \n",
       "1990-01-02 00:00:00-05:00   162070000   358.760010       0  \n",
       "1990-01-03 00:00:00-05:00   192330000   355.670013       0  \n",
       "1990-01-04 00:00:00-05:00   177000000   352.200012       0  \n",
       "1990-01-05 00:00:00-05:00   158530000   353.790009       1  \n",
       "1990-01-08 00:00:00-05:00   140110000   349.619995       0  \n",
       "...                               ...          ...     ...  \n",
       "2024-11-11 00:00:00-05:00  4333000000  5983.990234       0  \n",
       "2024-11-12 00:00:00-05:00  4243400000  5985.379883       1  \n",
       "2024-11-13 00:00:00-05:00  4220180000  5949.169922       0  \n",
       "2024-11-14 00:00:00-05:00  4184570000  5870.620117       0  \n",
       "2024-11-15 00:00:00-05:00  4590960000          NaN       0  \n",
       "\n",
       "[8787 rows x 7 columns]"
      ]
     },
     "execution_count": 28,
     "metadata": {},
     "output_type": "execute_result"
    }
   ],
   "source": [
    "nb = nb.loc[\"1990-01-01\":].copy()\n",
    "nb"
   ]
  },
  {
   "cell_type": "code",
   "execution_count": 30,
   "id": "311b0aa9-0730-4149-b06d-e86710f101fa",
   "metadata": {},
   "outputs": [
    {
     "data": {
      "text/html": [
       "<style>#sk-container-id-3 {color: black;}#sk-container-id-3 pre{padding: 0;}#sk-container-id-3 div.sk-toggleable {background-color: white;}#sk-container-id-3 label.sk-toggleable__label {cursor: pointer;display: block;width: 100%;margin-bottom: 0;padding: 0.3em;box-sizing: border-box;text-align: center;}#sk-container-id-3 label.sk-toggleable__label-arrow:before {content: \"▸\";float: left;margin-right: 0.25em;color: #696969;}#sk-container-id-3 label.sk-toggleable__label-arrow:hover:before {color: black;}#sk-container-id-3 div.sk-estimator:hover label.sk-toggleable__label-arrow:before {color: black;}#sk-container-id-3 div.sk-toggleable__content {max-height: 0;max-width: 0;overflow: hidden;text-align: left;background-color: #f0f8ff;}#sk-container-id-3 div.sk-toggleable__content pre {margin: 0.2em;color: black;border-radius: 0.25em;background-color: #f0f8ff;}#sk-container-id-3 input.sk-toggleable__control:checked~div.sk-toggleable__content {max-height: 200px;max-width: 100%;overflow: auto;}#sk-container-id-3 input.sk-toggleable__control:checked~label.sk-toggleable__label-arrow:before {content: \"▾\";}#sk-container-id-3 div.sk-estimator input.sk-toggleable__control:checked~label.sk-toggleable__label {background-color: #d4ebff;}#sk-container-id-3 div.sk-label input.sk-toggleable__control:checked~label.sk-toggleable__label {background-color: #d4ebff;}#sk-container-id-3 input.sk-hidden--visually {border: 0;clip: rect(1px 1px 1px 1px);clip: rect(1px, 1px, 1px, 1px);height: 1px;margin: -1px;overflow: hidden;padding: 0;position: absolute;width: 1px;}#sk-container-id-3 div.sk-estimator {font-family: monospace;background-color: #f0f8ff;border: 1px dotted black;border-radius: 0.25em;box-sizing: border-box;margin-bottom: 0.5em;}#sk-container-id-3 div.sk-estimator:hover {background-color: #d4ebff;}#sk-container-id-3 div.sk-parallel-item::after {content: \"\";width: 100%;border-bottom: 1px solid gray;flex-grow: 1;}#sk-container-id-3 div.sk-label:hover label.sk-toggleable__label {background-color: #d4ebff;}#sk-container-id-3 div.sk-serial::before {content: \"\";position: absolute;border-left: 1px solid gray;box-sizing: border-box;top: 0;bottom: 0;left: 50%;z-index: 0;}#sk-container-id-3 div.sk-serial {display: flex;flex-direction: column;align-items: center;background-color: white;padding-right: 0.2em;padding-left: 0.2em;position: relative;}#sk-container-id-3 div.sk-item {position: relative;z-index: 1;}#sk-container-id-3 div.sk-parallel {display: flex;align-items: stretch;justify-content: center;background-color: white;position: relative;}#sk-container-id-3 div.sk-item::before, #sk-container-id-3 div.sk-parallel-item::before {content: \"\";position: absolute;border-left: 1px solid gray;box-sizing: border-box;top: 0;bottom: 0;left: 50%;z-index: -1;}#sk-container-id-3 div.sk-parallel-item {display: flex;flex-direction: column;z-index: 1;position: relative;background-color: white;}#sk-container-id-3 div.sk-parallel-item:first-child::after {align-self: flex-end;width: 50%;}#sk-container-id-3 div.sk-parallel-item:last-child::after {align-self: flex-start;width: 50%;}#sk-container-id-3 div.sk-parallel-item:only-child::after {width: 0;}#sk-container-id-3 div.sk-dashed-wrapped {border: 1px dashed gray;margin: 0 0.4em 0.5em 0.4em;box-sizing: border-box;padding-bottom: 0.4em;background-color: white;}#sk-container-id-3 div.sk-label label {font-family: monospace;font-weight: bold;display: inline-block;line-height: 1.2em;}#sk-container-id-3 div.sk-label-container {text-align: center;}#sk-container-id-3 div.sk-container {/* jupyter's `normalize.less` sets `[hidden] { display: none; }` but bootstrap.min.css set `[hidden] { display: none !important; }` so we also need the `!important` here to be able to override the default hidden behavior on the sphinx rendered scikit-learn.org. See: https://github.com/scikit-learn/scikit-learn/issues/21755 */display: inline-block !important;position: relative;}#sk-container-id-3 div.sk-text-repr-fallback {display: none;}</style><div id=\"sk-container-id-3\" class=\"sk-top-container\"><div class=\"sk-text-repr-fallback\"><pre>RandomForestClassifier(min_samples_split=100, random_state=50)</pre><b>In a Jupyter environment, please rerun this cell to show the HTML representation or trust the notebook. <br />On GitHub, the HTML representation is unable to render, please try loading this page with nbviewer.org.</b></div><div class=\"sk-container\" hidden><div class=\"sk-item\"><div class=\"sk-estimator sk-toggleable\"><input class=\"sk-toggleable__control sk-hidden--visually\" id=\"sk-estimator-id-3\" type=\"checkbox\" checked><label for=\"sk-estimator-id-3\" class=\"sk-toggleable__label sk-toggleable__label-arrow\">RandomForestClassifier</label><div class=\"sk-toggleable__content\"><pre>RandomForestClassifier(min_samples_split=100, random_state=50)</pre></div></div></div></div></div>"
      ],
      "text/plain": [
       "RandomForestClassifier(min_samples_split=100, random_state=50)"
      ]
     },
     "execution_count": 30,
     "metadata": {},
     "output_type": "execute_result"
    }
   ],
   "source": [
    "from sklearn.ensemble import RandomForestClassifier\n",
    "\n",
    "model = RandomForestClassifier(n_estimators =100 , min_samples_split = 100 , random_state = 50)\n",
    "train = nb.iloc[: -100]\n",
    "test  = nb.iloc[-100: ]\n",
    "predictors = [\"Close\" , \"Open\" , \"Volume\" , \"High\" , \"Low\"]\n",
    "model.fit(train[predictors] , train[\"Target\"])"
   ]
  },
  {
   "cell_type": "code",
   "execution_count": 31,
   "id": "f0ca62f0-abbb-4c08-86eb-a6202cd05e75",
   "metadata": {},
   "outputs": [],
   "source": [
    "from sklearn.metrics import precision_score\n",
    "preds = model.predict(test[predictors])"
   ]
  },
  {
   "cell_type": "code",
   "execution_count": 32,
   "id": "366b8899-dbdf-461f-a761-961ec696ebdd",
   "metadata": {},
   "outputs": [],
   "source": [
    "preds = pd.Series(preds , index = test.index)"
   ]
  },
  {
   "cell_type": "code",
   "execution_count": 33,
   "id": "56587304-a54c-4062-ab0c-e4887cb94379",
   "metadata": {},
   "outputs": [
    {
     "data": {
      "text/plain": [
       "Date\n",
       "2024-06-27 00:00:00-04:00    0\n",
       "2024-06-28 00:00:00-04:00    0\n",
       "2024-07-01 00:00:00-04:00    1\n",
       "2024-07-02 00:00:00-04:00    1\n",
       "2024-07-03 00:00:00-04:00    0\n",
       "                            ..\n",
       "2024-11-11 00:00:00-05:00    1\n",
       "2024-11-12 00:00:00-05:00    1\n",
       "2024-11-13 00:00:00-05:00    0\n",
       "2024-11-14 00:00:00-05:00    0\n",
       "2024-11-15 00:00:00-05:00    1\n",
       "Length: 100, dtype: int32"
      ]
     },
     "execution_count": 33,
     "metadata": {},
     "output_type": "execute_result"
    }
   ],
   "source": [
    "preds"
   ]
  },
  {
   "cell_type": "code",
   "execution_count": 34,
   "id": "dee6309b-e28d-432f-9734-1c0c5ba81500",
   "metadata": {},
   "outputs": [
    {
     "data": {
      "text/plain": [
       "0.6"
      ]
     },
     "execution_count": 34,
     "metadata": {},
     "output_type": "execute_result"
    }
   ],
   "source": [
    "precision_score(test[\"Target\"] , preds)"
   ]
  },
  {
   "cell_type": "code",
   "execution_count": 35,
   "id": "8fd7369b-2800-443d-9575-50847da11297",
   "metadata": {},
   "outputs": [],
   "source": [
    "combined = pd.concat([test[\"Target\"] , preds] , axis = 1)"
   ]
  },
  {
   "cell_type": "code",
   "execution_count": 36,
   "id": "ff6a8809-93ba-46f8-8448-f8be6b8683d5",
   "metadata": {},
   "outputs": [
    {
     "data": {
      "text/plain": [
       "<Axes: xlabel='Date'>"
      ]
     },
     "execution_count": 36,
     "metadata": {},
     "output_type": "execute_result"
    },
    {
     "data": {
      "image/png": "[encoded data removed]",
      "text/plain": [
       "<Figure size 640x480 with 1 Axes>"
      ]
     },
     "metadata": {},
     "output_type": "display_data"
    }
   ],
   "source": [
    "combined.plot()"
   ]
  },
  {
   "cell_type": "code",
   "execution_count": 37,
   "id": "54d2afd4-142e-46e5-b2f5-5afdd4ea9ecb",
   "metadata": {},
   "outputs": [],
   "source": [
    "def predict(train , test , predictors , model):\n",
    "    model.fit(train[predictors] , train[\"Target\"])\n",
    "    preds = model.predict(test[predictors])\n",
    "    preds = pd.Series(preds , index = test.index , name=\"Predictions\")\n",
    "    combined = pd.concat([test[\"Target\"] , preds] , axis = 1)\n",
    "    return combined"
   ]
  },
  {
   "cell_type": "code",
   "execution_count": 38,
   "id": "269ee082-2f54-4460-be4e-1430eeeac59a",
   "metadata": {},
   "outputs": [],
   "source": [
    "def backtest(data , model , predictors , start = 2500 , step=250):\n",
    "    all_predictions = []\n",
    "\n",
    "    for i in range(start , data.shape[0], step):\n",
    "        train = data.iloc[0:i].copy()\n",
    "        test = data.iloc[i : (i+step)].copy()\n",
    "        predictions = predict(train , test , predictors ,model)\n",
    "        all_predictions.append(predictions)\n",
    "    return pd.concat(all_predictions)    "
   ]
  },
  {
   "cell_type": "code",
   "execution_count": 39,
   "id": "fc5dc4ea-3172-4e33-a680-963cf8508d86",
   "metadata": {},
   "outputs": [],
   "source": [
    "predictions = backtest(nb , model , predictors)"
   ]
  },
  {
   "cell_type": "code",
   "execution_count": 40,
   "id": "92d32d49-6e56-4bed-bda6-d0e02a2fa4c6",
   "metadata": {},
   "outputs": [
    {
     "data": {
      "text/plain": [
       "Predictions\n",
       "0    3507\n",
       "1    2780\n",
       "Name: count, dtype: int64"
      ]
     },
     "execution_count": 40,
     "metadata": {},
     "output_type": "execute_result"
    }
   ],
   "source": [
    "predictions[\"Predictions\"].value_counts()"
   ]
  },
  {
   "cell_type": "code",
   "execution_count": 41,
   "id": "1fb943c5-cdeb-4f8b-9c02-8cbeb2f76204",
   "metadata": {},
   "outputs": [
    {
     "data": {
      "text/plain": [
       "0.5352517985611511"
      ]
     },
     "execution_count": 41,
     "metadata": {},
     "output_type": "execute_result"
    }
   ],
   "source": [
    "precision_score(predictions[\"Target\"] , predictions[\"Predictions\"])"
   ]
  },
  {
   "cell_type": "code",
   "execution_count": 42,
   "id": "17c2e717-07fd-4946-9b0d-2f2e3d8bb427",
   "metadata": {},
   "outputs": [
    {
     "data": {
      "text/plain": [
       "Target\n",
       "1    0.535709\n",
       "0    0.464291\n",
       "Name: count, dtype: float64"
      ]
     },
     "execution_count": 42,
     "metadata": {},
     "output_type": "execute_result"
    }
   ],
   "source": [
    "predictions[\"Target\"].value_counts()/predictions.shape[0]"
   ]
  },
  {
   "cell_type": "code",
   "execution_count": 43,
   "id": "2a6c7368-fd1b-4817-8a23-24e7e1dad459",
   "metadata": {},
   "outputs": [],
   "source": [
    "horizons = [2 , 5, 60 ,250 ,1000]\n",
    "new_predictors = []\n",
    "\n",
    "for horizon in horizons:\n",
    "    rolling_averages = nb.rolling(horizon).mean()\n",
    "    ratio_column = f\"Close_Ratio_{horizon}\"\n",
    "    nb[ratio_column] = nb[\"Close\"] / rolling_averages[\"Close\"]\n",
    "\n",
    "    trend_column = f\"Trend_{horizon}\"\n",
    "    nb[trend_column] = nb.shift(1).rolling(horizon).sum()[\"Target\"]\n",
    "\n",
    "    new_predictors +=[ratio_column , trend_column]\n",
    "    "
   ]
  },
  {
   "cell_type": "code",
   "execution_count": 44,
   "id": "22ac8fba-d3a9-4ed0-be46-b974138e78af",
   "metadata": {},
   "outputs": [],
   "source": [
    "nb  = nb.dropna()"
   ]
  },
  {
   "cell_type": "code",
   "execution_count": 45,
   "id": "b6d18191-3952-4877-9a32-e1b784e97609",
   "metadata": {},
   "outputs": [
    {
     "data": {
      "text/html": [
       "<div>\n",
       "<style scoped>\n",
       "    .dataframe tbody tr th:only-of-type {\n",
       "        vertical-align: middle;\n",
       "    }\n",
       "\n",
       "    .dataframe tbody tr th {\n",
       "        vertical-align: top;\n",
       "    }\n",
       "\n",
       "    .dataframe thead th {\n",
       "        text-align: right;\n",
       "    }\n",
       "</style>\n",
       "<table border=\"1\" class=\"dataframe\">\n",
       "  <thead>\n",
       "    <tr style=\"text-align: right;\">\n",
       "      <th></th>\n",
       "      <th>Open</th>\n",
       "      <th>High</th>\n",
       "      <th>Low</th>\n",
       "      <th>Close</th>\n",
       "      <th>Volume</th>\n",
       "      <th>Tomorrow</th>\n",
       "      <th>Target</th>\n",
       "      <th>Close_Ratio_2</th>\n",
       "      <th>Trend_2</th>\n",
       "      <th>Close_Ratio_5</th>\n",
       "      <th>Trend_5</th>\n",
       "      <th>Close_Ratio_60</th>\n",
       "      <th>Trend_60</th>\n",
       "      <th>Close_Ratio_250</th>\n",
       "      <th>Trend_250</th>\n",
       "      <th>Close_Ratio_1000</th>\n",
       "      <th>Trend_1000</th>\n",
       "    </tr>\n",
       "    <tr>\n",
       "      <th>Date</th>\n",
       "      <th></th>\n",
       "      <th></th>\n",
       "      <th></th>\n",
       "      <th></th>\n",
       "      <th></th>\n",
       "      <th></th>\n",
       "      <th></th>\n",
       "      <th></th>\n",
       "      <th></th>\n",
       "      <th></th>\n",
       "      <th></th>\n",
       "      <th></th>\n",
       "      <th></th>\n",
       "      <th></th>\n",
       "      <th></th>\n",
       "      <th></th>\n",
       "      <th></th>\n",
       "    </tr>\n",
       "  </thead>\n",
       "  <tbody>\n",
       "    <tr>\n",
       "      <th>1993-12-14 00:00:00-05:00</th>\n",
       "      <td>465.730011</td>\n",
       "      <td>466.119995</td>\n",
       "      <td>462.459991</td>\n",
       "      <td>463.059998</td>\n",
       "      <td>275050000</td>\n",
       "      <td>461.839996</td>\n",
       "      <td>0</td>\n",
       "      <td>0.997157</td>\n",
       "      <td>1.0</td>\n",
       "      <td>0.996617</td>\n",
       "      <td>1.0</td>\n",
       "      <td>1.000283</td>\n",
       "      <td>32.0</td>\n",
       "      <td>1.028047</td>\n",
       "      <td>127.0</td>\n",
       "      <td>1.176082</td>\n",
       "      <td>512.0</td>\n",
       "    </tr>\n",
       "    <tr>\n",
       "      <th>1993-12-15 00:00:00-05:00</th>\n",
       "      <td>463.059998</td>\n",
       "      <td>463.690002</td>\n",
       "      <td>461.839996</td>\n",
       "      <td>461.839996</td>\n",
       "      <td>331770000</td>\n",
       "      <td>463.339996</td>\n",
       "      <td>1</td>\n",
       "      <td>0.998681</td>\n",
       "      <td>0.0</td>\n",
       "      <td>0.995899</td>\n",
       "      <td>1.0</td>\n",
       "      <td>0.997329</td>\n",
       "      <td>32.0</td>\n",
       "      <td>1.025151</td>\n",
       "      <td>126.0</td>\n",
       "      <td>1.172676</td>\n",
       "      <td>512.0</td>\n",
       "    </tr>\n",
       "    <tr>\n",
       "      <th>1993-12-16 00:00:00-05:00</th>\n",
       "      <td>461.859985</td>\n",
       "      <td>463.980011</td>\n",
       "      <td>461.859985</td>\n",
       "      <td>463.339996</td>\n",
       "      <td>284620000</td>\n",
       "      <td>466.380005</td>\n",
       "      <td>1</td>\n",
       "      <td>1.001621</td>\n",
       "      <td>1.0</td>\n",
       "      <td>0.999495</td>\n",
       "      <td>2.0</td>\n",
       "      <td>1.000311</td>\n",
       "      <td>32.0</td>\n",
       "      <td>1.028274</td>\n",
       "      <td>127.0</td>\n",
       "      <td>1.176163</td>\n",
       "      <td>513.0</td>\n",
       "    </tr>\n",
       "  </tbody>\n",
       "</table>\n",
       "</div>"
      ],
      "text/plain": [
       "                                 Open        High         Low       Close  \\\n",
       "Date                                                                        \n",
       "1993-12-14 00:00:00-05:00  465.730011  466.119995  462.459991  463.059998   \n",
       "1993-12-15 00:00:00-05:00  463.059998  463.690002  461.839996  461.839996   \n",
       "1993-12-16 00:00:00-05:00  461.859985  463.980011  461.859985  463.339996   \n",
       "\n",
       "                              Volume    Tomorrow  Target  Close_Ratio_2  \\\n",
       "Date                                                                      \n",
       "1993-12-14 00:00:00-05:00  275050000  461.839996       0       0.997157   \n",
       "1993-12-15 00:00:00-05:00  331770000  463.339996       1       0.998681   \n",
       "1993-12-16 00:00:00-05:00  284620000  466.380005       1       1.001621   \n",
       "\n",
       "                           Trend_2  Close_Ratio_5  Trend_5  Close_Ratio_60  \\\n",
       "Date                                                                         \n",
       "1993-12-14 00:00:00-05:00      1.0       0.996617      1.0        1.000283   \n",
       "1993-12-15 00:00:00-05:00      0.0       0.995899      1.0        0.997329   \n",
       "1993-12-16 00:00:00-05:00      1.0       0.999495      2.0        1.000311   \n",
       "\n",
       "                           Trend_60  Close_Ratio_250  Trend_250  \\\n",
       "Date                                                              \n",
       "1993-12-14 00:00:00-05:00      32.0         1.028047      127.0   \n",
       "1993-12-15 00:00:00-05:00      32.0         1.025151      126.0   \n",
       "1993-12-16 00:00:00-05:00      32.0         1.028274      127.0   \n",
       "\n",
       "                           Close_Ratio_1000  Trend_1000  \n",
       "Date                                                     \n",
       "1993-12-14 00:00:00-05:00          1.176082       512.0  \n",
       "1993-12-15 00:00:00-05:00          1.172676       512.0  \n",
       "1993-12-16 00:00:00-05:00          1.176163       513.0  "
      ]
     },
     "execution_count": 45,
     "metadata": {},
     "output_type": "execute_result"
    }
   ],
   "source": [
    "nb.head(3)"
   ]
  },
  {
   "cell_type": "code",
   "execution_count": 46,
   "id": "bd135f4e-487c-417d-bb92-cf4d32471388",
   "metadata": {},
   "outputs": [],
   "source": [
    "model = RandomForestClassifier(n_estimators = 200 , min_samples_split = 50 , random_state = 1)"
   ]
  },
  {
   "cell_type": "code",
   "execution_count": 47,
   "id": "d68acabc-c042-45c4-8b9e-0592d0188eb5",
   "metadata": {},
   "outputs": [],
   "source": [
    "def predict(train , test , predictors , model):\n",
    "    model.fit(train[predictors] , train[\"Target\"])\n",
    "    preds = model.predict_proba(test[predictors])[: , 1]\n",
    "    preds[preds >= .6]=1\n",
    "    preds[preds < .6] = 0\n",
    "    preds = pd.Series(preds , index = test.index , name=\"Predictions\")\n",
    "    combined = pd.concat([test[\"Target\"] , preds] , axis = 1)\n",
    "    return combined"
   ]
  },
  {
   "cell_type": "code",
   "execution_count": 48,
   "id": "4bf390e9-3e6a-44af-90ea-d56fc17c869e",
   "metadata": {},
   "outputs": [],
   "source": [
    "predictions = backtest(nb , model , new_predictors)"
   ]
  },
  {
   "cell_type": "code",
   "execution_count": 49,
   "id": "7715994b-2a7f-41df-8e48-6d05a4e3feaa",
   "metadata": {},
   "outputs": [
    {
     "data": {
      "text/plain": [
       "Predictions\n",
       "0.0    4437\n",
       "1.0     849\n",
       "Name: count, dtype: int64"
      ]
     },
     "execution_count": 49,
     "metadata": {},
     "output_type": "execute_result"
    }
   ],
   "source": [
    "predictions[\"Predictions\"].value_counts()"
   ]
  },
  {
   "cell_type": "code",
   "execution_count": 50,
   "id": "1c3b305c-d39c-4a13-afce-8028d4bcb357",
   "metadata": {},
   "outputs": [
    {
     "data": {
      "text/plain": [
       "0.574793875147232"
      ]
     },
     "execution_count": 50,
     "metadata": {},
     "output_type": "execute_result"
    }
   ],
   "source": [
    "precision_score(predictions[\"Target\"] , predictions[\"Predictions\"])"
   ]
  },
  {
   "cell_type": "code",
   "execution_count": 51,
   "id": "0bf1939b-e9f5-49ab-bc9c-079500805550",
   "metadata": {},
   "outputs": [
    {
     "data": {
      "text/plain": [
       "<Axes: xlabel='Date'>"
      ]
     },
     "execution_count": 51,
     "metadata": {},
     "output_type": "execute_result"
    },
    {
     "data": {
      "image/png": "[encoded data removed]",
      "text/plain": [
       "<Figure size 640x480 with 1 Axes>"
      ]
     },
     "metadata": {},
     "output_type": "display_data"
    }
   ],
   "source": [
    "combined.plot()"
   ]
  },
  {
   "cell_type": "code",
   "execution_count": 52,
   "id": "c4e131f7-64fe-4ec4-a497-f8b1a88393f3",
   "metadata": {},
   "outputs": [],
   "source": [
    "import yfinance as yf\n",
    "import pandas as pd\n",
    "import numpy as np\n",
    "from sklearn.ensemble import RandomForestRegressor\n",
    "from sklearn.model_selection import train_test_split\n",
    "from sklearn.metrics import mean_absolute_error, mean_squared_error, r2_score\n",
    "import matplotlib.pyplot as plt"
   ]
  },
  {
   "cell_type": "code",
   "execution_count": 2,
   "id": "9e141984-58df-4034-98f2-182975e99562",
   "metadata": {},
   "outputs": [
    {
     "name": "stderr",
     "output_type": "stream",
     "text": [
      "[*********************100%***********************]  1 of 1 completed\n"
     ]
    }
   ],
   "source": [
    "# Fetch data for Bajaj Finance\n",
    "ticker = 'BAJFINANCE.NS'\n",
    "data = yf.download(ticker, start='2023-05-01', end='2023-06-01')\n",
    "data['Date'] = data.index\n",
    "data = data[['Date', 'Open', 'High', 'Low', 'Close', 'Volume']]\n",
    "data.reset_index(drop=True, inplace=True)"
   ]
  },
  {
   "cell_type": "code",
   "execution_count": 3,
   "id": "351dcf1e-be9e-4ac2-9d6b-5b3f4e0923a2",
   "metadata": {},
   "outputs": [],
   "source": [
    "# Prepare the data\n",
    "data['Day'] = data['Date'].dt.day\n",
    "features = ['Open', 'High', 'Low', 'Volume', 'Day']\n",
    "X = data[features]\n",
    "y = data['Close']\n",
    "\n",
    "# Split data into training and testing sets\n",
    "X_train, X_test, y_train, y_test = train_test_split(X, y, test_size=0.2, random_state=42)"
   ]
  },
  {
   "cell_type": "code",
   "execution_count": 4,
   "id": "44fb20fc-2d92-4c02-9ae1-03cd7eb1eb95",
   "metadata": {},
   "outputs": [
    {
     "data": {
      "text/html": [
       "<style>#sk-container-id-1 {color: black;}#sk-container-id-1 pre{padding: 0;}#sk-container-id-1 div.sk-toggleable {background-color: white;}#sk-container-id-1 label.sk-toggleable__label {cursor: pointer;display: block;width: 100%;margin-bottom: 0;padding: 0.3em;box-sizing: border-box;text-align: center;}#sk-container-id-1 label.sk-toggleable__label-arrow:before {content: \"▸\";float: left;margin-right: 0.25em;color: #696969;}#sk-container-id-1 label.sk-toggleable__label-arrow:hover:before {color: black;}#sk-container-id-1 div.sk-estimator:hover label.sk-toggleable__label-arrow:before {color: black;}#sk-container-id-1 div.sk-toggleable__content {max-height: 0;max-width: 0;overflow: hidden;text-align: left;background-color: #f0f8ff;}#sk-container-id-1 div.sk-toggleable__content pre {margin: 0.2em;color: black;border-radius: 0.25em;background-color: #f0f8ff;}#sk-container-id-1 input.sk-toggleable__control:checked~div.sk-toggleable__content {max-height: 200px;max-width: 100%;overflow: auto;}#sk-container-id-1 input.sk-toggleable__control:checked~label.sk-toggleable__label-arrow:before {content: \"▾\";}#sk-container-id-1 div.sk-estimator input.sk-toggleable__control:checked~label.sk-toggleable__label {background-color: #d4ebff;}#sk-container-id-1 div.sk-label input.sk-toggleable__control:checked~label.sk-toggleable__label {background-color: #d4ebff;}#sk-container-id-1 input.sk-hidden--visually {border: 0;clip: rect(1px 1px 1px 1px);clip: rect(1px, 1px, 1px, 1px);height: 1px;margin: -1px;overflow: hidden;padding: 0;position: absolute;width: 1px;}#sk-container-id-1 div.sk-estimator {font-family: monospace;background-color: #f0f8ff;border: 1px dotted black;border-radius: 0.25em;box-sizing: border-box;margin-bottom: 0.5em;}#sk-container-id-1 div.sk-estimator:hover {background-color: #d4ebff;}#sk-container-id-1 div.sk-parallel-item::after {content: \"\";width: 100%;border-bottom: 1px solid gray;flex-grow: 1;}#sk-container-id-1 div.sk-label:hover label.sk-toggleable__label {background-color: #d4ebff;}#sk-container-id-1 div.sk-serial::before {content: \"\";position: absolute;border-left: 1px solid gray;box-sizing: border-box;top: 0;bottom: 0;left: 50%;z-index: 0;}#sk-container-id-1 div.sk-serial {display: flex;flex-direction: column;align-items: center;background-color: white;padding-right: 0.2em;padding-left: 0.2em;position: relative;}#sk-container-id-1 div.sk-item {position: relative;z-index: 1;}#sk-container-id-1 div.sk-parallel {display: flex;align-items: stretch;justify-content: center;background-color: white;position: relative;}#sk-container-id-1 div.sk-item::before, #sk-container-id-1 div.sk-parallel-item::before {content: \"\";position: absolute;border-left: 1px solid gray;box-sizing: border-box;top: 0;bottom: 0;left: 50%;z-index: -1;}#sk-container-id-1 div.sk-parallel-item {display: flex;flex-direction: column;z-index: 1;position: relative;background-color: white;}#sk-container-id-1 div.sk-parallel-item:first-child::after {align-self: flex-end;width: 50%;}#sk-container-id-1 div.sk-parallel-item:last-child::after {align-self: flex-start;width: 50%;}#sk-container-id-1 div.sk-parallel-item:only-child::after {width: 0;}#sk-container-id-1 div.sk-dashed-wrapped {border: 1px dashed gray;margin: 0 0.4em 0.5em 0.4em;box-sizing: border-box;padding-bottom: 0.4em;background-color: white;}#sk-container-id-1 div.sk-label label {font-family: monospace;font-weight: bold;display: inline-block;line-height: 1.2em;}#sk-container-id-1 div.sk-label-container {text-align: center;}#sk-container-id-1 div.sk-container {/* jupyter's `normalize.less` sets `[hidden] { display: none; }` but bootstrap.min.css set `[hidden] { display: none !important; }` so we also need the `!important` here to be able to override the default hidden behavior on the sphinx rendered scikit-learn.org. See: https://github.com/scikit-learn/scikit-learn/issues/21755 */display: inline-block !important;position: relative;}#sk-container-id-1 div.sk-text-repr-fallback {display: none;}</style><div id=\"sk-container-id-1\" class=\"sk-top-container\"><div class=\"sk-text-repr-fallback\"><pre>RandomForestRegressor(random_state=42)</pre><b>In a Jupyter environment, please rerun this cell to show the HTML representation or trust the notebook. <br />On GitHub, the HTML representation is unable to render, please try loading this page with nbviewer.org.</b></div><div class=\"sk-container\" hidden><div class=\"sk-item\"><div class=\"sk-estimator sk-toggleable\"><input class=\"sk-toggleable__control sk-hidden--visually\" id=\"sk-estimator-id-1\" type=\"checkbox\" checked><label for=\"sk-estimator-id-1\" class=\"sk-toggleable__label sk-toggleable__label-arrow\">RandomForestRegressor</label><div class=\"sk-toggleable__content\"><pre>RandomForestRegressor(random_state=42)</pre></div></div></div></div></div>"
      ],
      "text/plain": [
       "RandomForestRegressor(random_state=42)"
      ]
     },
     "execution_count": 4,
     "metadata": {},
     "output_type": "execute_result"
    }
   ],
   "source": [
    "# Train Random Forest Regressor\n",
    "model = RandomForestRegressor(n_estimators=100, random_state=42)\n",
    "model.fit(X_train, y_train)"
   ]
  },
  {
   "cell_type": "code",
   "execution_count": 5,
   "id": "20f5aa7c-6f41-4598-9c27-70cc9c21331a",
   "metadata": {},
   "outputs": [
    {
     "name": "stdout",
     "output_type": "stream",
     "text": [
      "Mean Absolute Error: 114.41469335937491\n",
      "Mean Squared Error: 21810.947463715336\n",
      "R2 Score: 0.6986709777141418\n"
     ]
    }
   ],
   "source": [
    "# Predict and evaluate\n",
    "y_pred = model.predict(X_test)\n",
    "mae = mean_absolute_error(y_test, y_pred)\n",
    "mse = mean_squared_error(y_test, y_pred)\n",
    "r2 = r2_score(y_test, y_pred)\n",
    "\n",
    "print(f\"Mean Absolute Error: {mae}\")\n",
    "print(f\"Mean Squared Error: {mse}\")\n",
    "print(f\"R2 Score: {r2}\")"
   ]
  },
  {
   "cell_type": "code",
   "execution_count": 12,
   "id": "db4a4c9b-8dd4-4b8a-853d-a26fe1a79035",
   "metadata": {},
   "outputs": [
    {
     "data": {
      "image/png": "[encoded data removed]",
      "text/plain": [
       "<Figure size 1300x600 with 1 Axes>"
      ]
     },
     "metadata": {},
     "output_type": "display_data"
    }
   ],
   "source": [
    "# Plot the predictions\n",
    "plt.figure(figsize=(13, 6))\n",
    "plt.plot(data['Date'], data['Close'], label='Actual Prices')\n",
    "plt.plot(data['Date'][X_test.index], y_pred, 'ro', label='Predicted Prices')\n",
    "plt.xlabel('Date')\n",
    "plt.ylabel('Stock Price')\n",
    "plt.title('Random Forest Prediction of Bajaj Finance Stock Prices')\n",
    "plt.legend()\n",
    "plt.show()"
   ]
  },
  {
   "cell_type": "code",
   "execution_count": null,
   "id": "5712dbfa-05c3-4537-a449-f663ded8505d",
   "metadata": {},
   "outputs": [],
   "source": []
  }
 ],
 "metadata": {
  "kernelspec": {
   "display_name": "Python 3 (ipykernel)",
   "language": "python",
   "name": "python3"
  },
  "language_info": {
   "codemirror_mode": {
    "name": "ipython",
    "version": 3
   },
   "file_extension": ".py",
   "mimetype": "text/x-python",
   "name": "python",
   "nbconvert_exporter": "python",
   "pygments_lexer": "ipython3",
   "version": "3.11.5"
  },
  "widgets": {
   "application/vnd.jupyter.widget-state+json": {
    "state": {},
    "version_major": 2,
    "version_minor": 0
   }
  }
 },
 "nbformat": 4,
 "nbformat_minor": 5
}
