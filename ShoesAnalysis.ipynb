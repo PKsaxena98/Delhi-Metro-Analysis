{
 "cells": [
  {
   "cell_type": "code",
   "execution_count": 222,
   "id": "9e0f2b2e-e04d-4327-9c8c-afea72ef15e0",
   "metadata": {},
   "outputs": [],
   "source": [
    "import pandas as pd\n",
    "import numpy as np\n",
    "import matplotlib.pyplot as plt\n",
    "import seaborn as sns\n",
    "%matplotlib inline"
   ]
  },
  {
   "cell_type": "code",
   "execution_count": 223,
   "id": "0f4f7403-e39d-4773-ba0a-d685cef333a0",
   "metadata": {},
   "outputs": [
    {
     "data": {
      "text/html": [
       "<div>\n",
       "<style scoped>\n",
       "    .dataframe tbody tr th:only-of-type {\n",
       "        vertical-align: middle;\n",
       "    }\n",
       "\n",
       "    .dataframe tbody tr th {\n",
       "        vertical-align: top;\n",
       "    }\n",
       "\n",
       "    .dataframe thead th {\n",
       "        text-align: right;\n",
       "    }\n",
       "</style>\n",
       "<table border=\"1\" class=\"dataframe\">\n",
       "  <thead>\n",
       "    <tr style=\"text-align: right;\">\n",
       "      <th></th>\n",
       "      <th>Brand</th>\n",
       "      <th>Model</th>\n",
       "      <th>Type</th>\n",
       "      <th>Gender</th>\n",
       "      <th>Size</th>\n",
       "      <th>Color</th>\n",
       "      <th>Material</th>\n",
       "      <th>Price (USD)</th>\n",
       "    </tr>\n",
       "  </thead>\n",
       "  <tbody>\n",
       "    <tr>\n",
       "      <th>0</th>\n",
       "      <td>Nike</td>\n",
       "      <td>Air Jordan 1</td>\n",
       "      <td>Basketball</td>\n",
       "      <td>Men</td>\n",
       "      <td>US 10</td>\n",
       "      <td>Red/Black</td>\n",
       "      <td>Leather</td>\n",
       "      <td>$170.00</td>\n",
       "    </tr>\n",
       "    <tr>\n",
       "      <th>1</th>\n",
       "      <td>Adidas</td>\n",
       "      <td>Ultra Boost 21</td>\n",
       "      <td>Running</td>\n",
       "      <td>Men</td>\n",
       "      <td>US 9.5</td>\n",
       "      <td>Black</td>\n",
       "      <td>Primeknit</td>\n",
       "      <td>$180.00</td>\n",
       "    </tr>\n",
       "    <tr>\n",
       "      <th>2</th>\n",
       "      <td>Reebok</td>\n",
       "      <td>Classic Leather</td>\n",
       "      <td>Casual</td>\n",
       "      <td>Men</td>\n",
       "      <td>US 11</td>\n",
       "      <td>White</td>\n",
       "      <td>Leather</td>\n",
       "      <td>$75.00</td>\n",
       "    </tr>\n",
       "    <tr>\n",
       "      <th>3</th>\n",
       "      <td>Converse</td>\n",
       "      <td>Chuck Taylor</td>\n",
       "      <td>Casual</td>\n",
       "      <td>Women</td>\n",
       "      <td>US 8</td>\n",
       "      <td>Navy</td>\n",
       "      <td>Canvas</td>\n",
       "      <td>$55.00</td>\n",
       "    </tr>\n",
       "    <tr>\n",
       "      <th>4</th>\n",
       "      <td>Puma</td>\n",
       "      <td>Future Rider</td>\n",
       "      <td>Lifestyle</td>\n",
       "      <td>Women</td>\n",
       "      <td>US 7.5</td>\n",
       "      <td>Pink</td>\n",
       "      <td>Mesh</td>\n",
       "      <td>$80.00</td>\n",
       "    </tr>\n",
       "  </tbody>\n",
       "</table>\n",
       "</div>"
      ],
      "text/plain": [
       "      Brand            Model        Type Gender    Size      Color   Material  \\\n",
       "0      Nike     Air Jordan 1  Basketball    Men   US 10  Red/Black    Leather   \n",
       "1    Adidas   Ultra Boost 21     Running    Men  US 9.5      Black  Primeknit   \n",
       "2    Reebok  Classic Leather      Casual    Men   US 11      White    Leather   \n",
       "3  Converse     Chuck Taylor      Casual  Women    US 8       Navy     Canvas   \n",
       "4      Puma     Future Rider   Lifestyle  Women  US 7.5       Pink       Mesh   \n",
       "\n",
       "  Price (USD)  \n",
       "0    $170.00   \n",
       "1    $180.00   \n",
       "2     $75.00   \n",
       "3     $55.00   \n",
       "4     $80.00   "
      ]
     },
     "execution_count": 223,
     "metadata": {},
     "output_type": "execute_result"
    }
   ],
   "source": [
    "data = pd.read_csv('../Datasets/Shoe prices.csv')\n",
    "data.head()"
   ]
  },
  {
   "cell_type": "code",
   "execution_count": 224,
   "id": "f570db56-681d-409a-aea6-b1a11d216cb6",
   "metadata": {},
   "outputs": [
    {
     "name": "stdout",
     "output_type": "stream",
     "text": [
      "<class 'pandas.core.frame.DataFrame'>\n",
      "RangeIndex: 1006 entries, 0 to 1005\n",
      "Data columns (total 8 columns):\n",
      " #   Column       Non-Null Count  Dtype \n",
      "---  ------       --------------  ----- \n",
      " 0   Brand        1006 non-null   object\n",
      " 1   Model        1006 non-null   object\n",
      " 2   Type         1006 non-null   object\n",
      " 3   Gender       1006 non-null   object\n",
      " 4   Size         1006 non-null   object\n",
      " 5   Color        1006 non-null   object\n",
      " 6   Material     1006 non-null   object\n",
      " 7   Price (USD)  1006 non-null   object\n",
      "dtypes: object(8)\n",
      "memory usage: 63.0+ KB\n"
     ]
    }
   ],
   "source": [
    "data.info()"
   ]
  },
  {
   "cell_type": "code",
   "execution_count": 225,
   "id": "7d858f50-0a47-40f6-a843-4f87537ed0d6",
   "metadata": {},
   "outputs": [],
   "source": [
    "data['Price (USD)'] = pd.to_numeric(data['Price (USD)'].str.replace('$', ''), errors='coerce')"
   ]
  },
  {
   "cell_type": "code",
   "execution_count": 226,
   "id": "da6a1790-c5c2-43db-80b1-2f4173c3fbab",
   "metadata": {},
   "outputs": [
    {
     "name": "stdout",
     "output_type": "stream",
     "text": [
      "<class 'pandas.core.frame.DataFrame'>\n",
      "RangeIndex: 1006 entries, 0 to 1005\n",
      "Data columns (total 8 columns):\n",
      " #   Column       Non-Null Count  Dtype  \n",
      "---  ------       --------------  -----  \n",
      " 0   Brand        1006 non-null   object \n",
      " 1   Model        1006 non-null   object \n",
      " 2   Type         1006 non-null   object \n",
      " 3   Gender       1006 non-null   object \n",
      " 4   Size         1006 non-null   object \n",
      " 5   Color        1006 non-null   object \n",
      " 6   Material     1006 non-null   object \n",
      " 7   Price (USD)  1006 non-null   float64\n",
      "dtypes: float64(1), object(7)\n",
      "memory usage: 63.0+ KB\n"
     ]
    }
   ],
   "source": [
    "data.info()"
   ]
  },
  {
   "cell_type": "code",
   "execution_count": 227,
   "id": "f6bfae9b-0d88-411c-b359-5a4ce140eaba",
   "metadata": {},
   "outputs": [
    {
     "data": {
      "text/html": [
       "<div>\n",
       "<style scoped>\n",
       "    .dataframe tbody tr th:only-of-type {\n",
       "        vertical-align: middle;\n",
       "    }\n",
       "\n",
       "    .dataframe tbody tr th {\n",
       "        vertical-align: top;\n",
       "    }\n",
       "\n",
       "    .dataframe thead th {\n",
       "        text-align: right;\n",
       "    }\n",
       "</style>\n",
       "<table border=\"1\" class=\"dataframe\">\n",
       "  <thead>\n",
       "    <tr style=\"text-align: right;\">\n",
       "      <th></th>\n",
       "      <th>Brand</th>\n",
       "      <th>Model</th>\n",
       "      <th>Type</th>\n",
       "      <th>Gender</th>\n",
       "      <th>Size</th>\n",
       "      <th>Color</th>\n",
       "      <th>Material</th>\n",
       "      <th>Price (USD)</th>\n",
       "    </tr>\n",
       "  </thead>\n",
       "  <tbody>\n",
       "    <tr>\n",
       "      <th>0</th>\n",
       "      <td>Nike</td>\n",
       "      <td>Air Jordan 1</td>\n",
       "      <td>Basketball</td>\n",
       "      <td>Men</td>\n",
       "      <td>US 10</td>\n",
       "      <td>Red/Black</td>\n",
       "      <td>Leather</td>\n",
       "      <td>170.0</td>\n",
       "    </tr>\n",
       "    <tr>\n",
       "      <th>1</th>\n",
       "      <td>Adidas</td>\n",
       "      <td>Ultra Boost 21</td>\n",
       "      <td>Running</td>\n",
       "      <td>Men</td>\n",
       "      <td>US 9.5</td>\n",
       "      <td>Black</td>\n",
       "      <td>Primeknit</td>\n",
       "      <td>180.0</td>\n",
       "    </tr>\n",
       "    <tr>\n",
       "      <th>2</th>\n",
       "      <td>Reebok</td>\n",
       "      <td>Classic Leather</td>\n",
       "      <td>Casual</td>\n",
       "      <td>Men</td>\n",
       "      <td>US 11</td>\n",
       "      <td>White</td>\n",
       "      <td>Leather</td>\n",
       "      <td>75.0</td>\n",
       "    </tr>\n",
       "    <tr>\n",
       "      <th>3</th>\n",
       "      <td>Converse</td>\n",
       "      <td>Chuck Taylor</td>\n",
       "      <td>Casual</td>\n",
       "      <td>Women</td>\n",
       "      <td>US 8</td>\n",
       "      <td>Navy</td>\n",
       "      <td>Canvas</td>\n",
       "      <td>55.0</td>\n",
       "    </tr>\n",
       "    <tr>\n",
       "      <th>4</th>\n",
       "      <td>Puma</td>\n",
       "      <td>Future Rider</td>\n",
       "      <td>Lifestyle</td>\n",
       "      <td>Women</td>\n",
       "      <td>US 7.5</td>\n",
       "      <td>Pink</td>\n",
       "      <td>Mesh</td>\n",
       "      <td>80.0</td>\n",
       "    </tr>\n",
       "  </tbody>\n",
       "</table>\n",
       "</div>"
      ],
      "text/plain": [
       "      Brand            Model        Type Gender    Size      Color   Material  \\\n",
       "0      Nike     Air Jordan 1  Basketball    Men   US 10  Red/Black    Leather   \n",
       "1    Adidas   Ultra Boost 21     Running    Men  US 9.5      Black  Primeknit   \n",
       "2    Reebok  Classic Leather      Casual    Men   US 11      White    Leather   \n",
       "3  Converse     Chuck Taylor      Casual  Women    US 8       Navy     Canvas   \n",
       "4      Puma     Future Rider   Lifestyle  Women  US 7.5       Pink       Mesh   \n",
       "\n",
       "   Price (USD)  \n",
       "0        170.0  \n",
       "1        180.0  \n",
       "2         75.0  \n",
       "3         55.0  \n",
       "4         80.0  "
      ]
     },
     "execution_count": 227,
     "metadata": {},
     "output_type": "execute_result"
    }
   ],
   "source": [
    "data.head()"
   ]
  },
  {
   "cell_type": "code",
   "execution_count": 228,
   "id": "165659f7-778d-46d4-99d2-674cf9abbbeb",
   "metadata": {},
   "outputs": [
    {
     "data": {
      "text/plain": [
       "(1006, 8)"
      ]
     },
     "execution_count": 228,
     "metadata": {},
     "output_type": "execute_result"
    }
   ],
   "source": [
    "data.shape"
   ]
  },
  {
   "cell_type": "code",
   "execution_count": 229,
   "id": "1afe25de-51ce-4f39-899b-837e109bd5e9",
   "metadata": {},
   "outputs": [
    {
     "data": {
      "text/html": [
       "<div>\n",
       "<style scoped>\n",
       "    .dataframe tbody tr th:only-of-type {\n",
       "        vertical-align: middle;\n",
       "    }\n",
       "\n",
       "    .dataframe tbody tr th {\n",
       "        vertical-align: top;\n",
       "    }\n",
       "\n",
       "    .dataframe thead th {\n",
       "        text-align: right;\n",
       "    }\n",
       "</style>\n",
       "<table border=\"1\" class=\"dataframe\">\n",
       "  <thead>\n",
       "    <tr style=\"text-align: right;\">\n",
       "      <th></th>\n",
       "      <th>Brand</th>\n",
       "      <th>Model</th>\n",
       "      <th>Type</th>\n",
       "      <th>Gender</th>\n",
       "      <th>Size</th>\n",
       "      <th>Color</th>\n",
       "      <th>Material</th>\n",
       "      <th>Price (USD)</th>\n",
       "    </tr>\n",
       "  </thead>\n",
       "  <tbody>\n",
       "    <tr>\n",
       "      <th>1001</th>\n",
       "      <td>New Balance</td>\n",
       "      <td>Fresh Foam 880v11</td>\n",
       "      <td>Running</td>\n",
       "      <td>Women</td>\n",
       "      <td>US 10</td>\n",
       "      <td>Grey</td>\n",
       "      <td>Mesh</td>\n",
       "      <td>130.0</td>\n",
       "    </tr>\n",
       "    <tr>\n",
       "      <th>1002</th>\n",
       "      <td>Asics</td>\n",
       "      <td>Gel-Kayano Lite</td>\n",
       "      <td>Running</td>\n",
       "      <td>Men</td>\n",
       "      <td>US 9.5</td>\n",
       "      <td>Black</td>\n",
       "      <td>Mesh</td>\n",
       "      <td>160.0</td>\n",
       "    </tr>\n",
       "    <tr>\n",
       "      <th>1003</th>\n",
       "      <td>Fila</td>\n",
       "      <td>Venom 94</td>\n",
       "      <td>Fashion</td>\n",
       "      <td>Women</td>\n",
       "      <td>US 7.5</td>\n",
       "      <td>White</td>\n",
       "      <td>Leather</td>\n",
       "      <td>70.0</td>\n",
       "    </tr>\n",
       "    <tr>\n",
       "      <th>1004</th>\n",
       "      <td>Skechers</td>\n",
       "      <td>Summits</td>\n",
       "      <td>Training</td>\n",
       "      <td>Men</td>\n",
       "      <td>US 8</td>\n",
       "      <td>Grey</td>\n",
       "      <td>Mesh</td>\n",
       "      <td>55.0</td>\n",
       "    </tr>\n",
       "    <tr>\n",
       "      <th>1005</th>\n",
       "      <td>Nike</td>\n",
       "      <td>Air Max 97</td>\n",
       "      <td>Running</td>\n",
       "      <td>Women</td>\n",
       "      <td>US 7.5</td>\n",
       "      <td>Silver</td>\n",
       "      <td>Leather</td>\n",
       "      <td>170.0</td>\n",
       "    </tr>\n",
       "  </tbody>\n",
       "</table>\n",
       "</div>"
      ],
      "text/plain": [
       "            Brand              Model      Type Gender    Size   Color  \\\n",
       "1001  New Balance  Fresh Foam 880v11   Running  Women   US 10    Grey   \n",
       "1002        Asics    Gel-Kayano Lite   Running    Men  US 9.5   Black   \n",
       "1003         Fila           Venom 94   Fashion  Women  US 7.5   White   \n",
       "1004     Skechers            Summits  Training    Men    US 8    Grey   \n",
       "1005         Nike         Air Max 97   Running  Women  US 7.5  Silver   \n",
       "\n",
       "     Material  Price (USD)  \n",
       "1001     Mesh        130.0  \n",
       "1002     Mesh        160.0  \n",
       "1003  Leather         70.0  \n",
       "1004     Mesh         55.0  \n",
       "1005  Leather        170.0  "
      ]
     },
     "execution_count": 229,
     "metadata": {},
     "output_type": "execute_result"
    }
   ],
   "source": [
    "data.tail()"
   ]
  },
  {
   "cell_type": "code",
   "execution_count": 230,
   "id": "6836590d-be65-454a-8a3d-e586e869c295",
   "metadata": {},
   "outputs": [
    {
     "data": {
      "text/html": [
       "<div>\n",
       "<style scoped>\n",
       "    .dataframe tbody tr th:only-of-type {\n",
       "        vertical-align: middle;\n",
       "    }\n",
       "\n",
       "    .dataframe tbody tr th {\n",
       "        vertical-align: top;\n",
       "    }\n",
       "\n",
       "    .dataframe thead th {\n",
       "        text-align: right;\n",
       "    }\n",
       "</style>\n",
       "<table border=\"1\" class=\"dataframe\">\n",
       "  <thead>\n",
       "    <tr style=\"text-align: right;\">\n",
       "      <th></th>\n",
       "      <th>Price (USD)</th>\n",
       "    </tr>\n",
       "  </thead>\n",
       "  <tbody>\n",
       "    <tr>\n",
       "      <th>count</th>\n",
       "      <td>1006.000000</td>\n",
       "    </tr>\n",
       "    <tr>\n",
       "      <th>mean</th>\n",
       "      <td>101.306143</td>\n",
       "    </tr>\n",
       "    <tr>\n",
       "      <th>std</th>\n",
       "      <td>39.215451</td>\n",
       "    </tr>\n",
       "    <tr>\n",
       "      <th>min</th>\n",
       "      <td>25.000000</td>\n",
       "    </tr>\n",
       "    <tr>\n",
       "      <th>25%</th>\n",
       "      <td>70.000000</td>\n",
       "    </tr>\n",
       "    <tr>\n",
       "      <th>50%</th>\n",
       "      <td>90.000000</td>\n",
       "    </tr>\n",
       "    <tr>\n",
       "      <th>75%</th>\n",
       "      <td>130.000000</td>\n",
       "    </tr>\n",
       "    <tr>\n",
       "      <th>max</th>\n",
       "      <td>250.000000</td>\n",
       "    </tr>\n",
       "  </tbody>\n",
       "</table>\n",
       "</div>"
      ],
      "text/plain": [
       "       Price (USD)\n",
       "count  1006.000000\n",
       "mean    101.306143\n",
       "std      39.215451\n",
       "min      25.000000\n",
       "25%      70.000000\n",
       "50%      90.000000\n",
       "75%     130.000000\n",
       "max     250.000000"
      ]
     },
     "execution_count": 230,
     "metadata": {},
     "output_type": "execute_result"
    }
   ],
   "source": [
    "data.describe()"
   ]
  },
  {
   "cell_type": "code",
   "execution_count": 231,
   "id": "4d912d64-6112-4255-ab09-3c88d09e78cc",
   "metadata": {},
   "outputs": [],
   "source": [
    "data.rename(columns={'Size': 'Size(US)'}, inplace=True)"
   ]
  },
  {
   "cell_type": "code",
   "execution_count": 232,
   "id": "0c83aee3-f0ef-4ffd-acff-443a77e9285e",
   "metadata": {},
   "outputs": [],
   "source": [
    "data.rename(columns={'Price (USD)': 'Price ($)'}, inplace=True)"
   ]
  },
  {
   "cell_type": "code",
   "execution_count": 233,
   "id": "8287d43d-8c85-4f3e-a980-2c058849be88",
   "metadata": {},
   "outputs": [
    {
     "data": {
      "text/html": [
       "<div>\n",
       "<style scoped>\n",
       "    .dataframe tbody tr th:only-of-type {\n",
       "        vertical-align: middle;\n",
       "    }\n",
       "\n",
       "    .dataframe tbody tr th {\n",
       "        vertical-align: top;\n",
       "    }\n",
       "\n",
       "    .dataframe thead th {\n",
       "        text-align: right;\n",
       "    }\n",
       "</style>\n",
       "<table border=\"1\" class=\"dataframe\">\n",
       "  <thead>\n",
       "    <tr style=\"text-align: right;\">\n",
       "      <th></th>\n",
       "      <th>Brand</th>\n",
       "      <th>Model</th>\n",
       "      <th>Type</th>\n",
       "      <th>Gender</th>\n",
       "      <th>Size(US)</th>\n",
       "      <th>Color</th>\n",
       "      <th>Material</th>\n",
       "      <th>Price ($)</th>\n",
       "    </tr>\n",
       "  </thead>\n",
       "  <tbody>\n",
       "    <tr>\n",
       "      <th>0</th>\n",
       "      <td>Nike</td>\n",
       "      <td>Air Jordan 1</td>\n",
       "      <td>Basketball</td>\n",
       "      <td>Men</td>\n",
       "      <td>US 10</td>\n",
       "      <td>Red/Black</td>\n",
       "      <td>Leather</td>\n",
       "      <td>170.0</td>\n",
       "    </tr>\n",
       "    <tr>\n",
       "      <th>1</th>\n",
       "      <td>Adidas</td>\n",
       "      <td>Ultra Boost 21</td>\n",
       "      <td>Running</td>\n",
       "      <td>Men</td>\n",
       "      <td>US 9.5</td>\n",
       "      <td>Black</td>\n",
       "      <td>Primeknit</td>\n",
       "      <td>180.0</td>\n",
       "    </tr>\n",
       "    <tr>\n",
       "      <th>2</th>\n",
       "      <td>Reebok</td>\n",
       "      <td>Classic Leather</td>\n",
       "      <td>Casual</td>\n",
       "      <td>Men</td>\n",
       "      <td>US 11</td>\n",
       "      <td>White</td>\n",
       "      <td>Leather</td>\n",
       "      <td>75.0</td>\n",
       "    </tr>\n",
       "    <tr>\n",
       "      <th>3</th>\n",
       "      <td>Converse</td>\n",
       "      <td>Chuck Taylor</td>\n",
       "      <td>Casual</td>\n",
       "      <td>Women</td>\n",
       "      <td>US 8</td>\n",
       "      <td>Navy</td>\n",
       "      <td>Canvas</td>\n",
       "      <td>55.0</td>\n",
       "    </tr>\n",
       "    <tr>\n",
       "      <th>4</th>\n",
       "      <td>Puma</td>\n",
       "      <td>Future Rider</td>\n",
       "      <td>Lifestyle</td>\n",
       "      <td>Women</td>\n",
       "      <td>US 7.5</td>\n",
       "      <td>Pink</td>\n",
       "      <td>Mesh</td>\n",
       "      <td>80.0</td>\n",
       "    </tr>\n",
       "  </tbody>\n",
       "</table>\n",
       "</div>"
      ],
      "text/plain": [
       "      Brand            Model        Type Gender Size(US)      Color  \\\n",
       "0      Nike     Air Jordan 1  Basketball    Men    US 10  Red/Black   \n",
       "1    Adidas   Ultra Boost 21     Running    Men   US 9.5      Black   \n",
       "2    Reebok  Classic Leather      Casual    Men    US 11      White   \n",
       "3  Converse     Chuck Taylor      Casual  Women     US 8       Navy   \n",
       "4      Puma     Future Rider   Lifestyle  Women   US 7.5       Pink   \n",
       "\n",
       "    Material  Price ($)  \n",
       "0    Leather      170.0  \n",
       "1  Primeknit      180.0  \n",
       "2    Leather       75.0  \n",
       "3     Canvas       55.0  \n",
       "4       Mesh       80.0  "
      ]
     },
     "execution_count": 233,
     "metadata": {},
     "output_type": "execute_result"
    }
   ],
   "source": [
    "data.head()"
   ]
  },
  {
   "cell_type": "code",
   "execution_count": 234,
   "id": "8fd26bfd-78a9-4a60-b011-ee98a73b6d00",
   "metadata": {},
   "outputs": [
    {
     "data": {
      "text/html": [
       "<div>\n",
       "<style scoped>\n",
       "    .dataframe tbody tr th:only-of-type {\n",
       "        vertical-align: middle;\n",
       "    }\n",
       "\n",
       "    .dataframe tbody tr th {\n",
       "        vertical-align: top;\n",
       "    }\n",
       "\n",
       "    .dataframe thead th {\n",
       "        text-align: right;\n",
       "    }\n",
       "</style>\n",
       "<table border=\"1\" class=\"dataframe\">\n",
       "  <thead>\n",
       "    <tr style=\"text-align: right;\">\n",
       "      <th></th>\n",
       "      <th>Brand</th>\n",
       "      <th>Model</th>\n",
       "      <th>Type</th>\n",
       "      <th>Gender</th>\n",
       "      <th>Size(US)</th>\n",
       "      <th>Color</th>\n",
       "      <th>Material</th>\n",
       "      <th>Price ($)</th>\n",
       "    </tr>\n",
       "  </thead>\n",
       "  <tbody>\n",
       "    <tr>\n",
       "      <th>0</th>\n",
       "      <td>Nike</td>\n",
       "      <td>Air Jordan 1</td>\n",
       "      <td>Basketball</td>\n",
       "      <td>Men</td>\n",
       "      <td>10</td>\n",
       "      <td>Red/Black</td>\n",
       "      <td>Leather</td>\n",
       "      <td>170.0</td>\n",
       "    </tr>\n",
       "    <tr>\n",
       "      <th>1</th>\n",
       "      <td>Adidas</td>\n",
       "      <td>Ultra Boost 21</td>\n",
       "      <td>Running</td>\n",
       "      <td>Men</td>\n",
       "      <td>9.5</td>\n",
       "      <td>Black</td>\n",
       "      <td>Primeknit</td>\n",
       "      <td>180.0</td>\n",
       "    </tr>\n",
       "    <tr>\n",
       "      <th>2</th>\n",
       "      <td>Reebok</td>\n",
       "      <td>Classic Leather</td>\n",
       "      <td>Casual</td>\n",
       "      <td>Men</td>\n",
       "      <td>11</td>\n",
       "      <td>White</td>\n",
       "      <td>Leather</td>\n",
       "      <td>75.0</td>\n",
       "    </tr>\n",
       "    <tr>\n",
       "      <th>3</th>\n",
       "      <td>Converse</td>\n",
       "      <td>Chuck Taylor</td>\n",
       "      <td>Casual</td>\n",
       "      <td>Women</td>\n",
       "      <td>8</td>\n",
       "      <td>Navy</td>\n",
       "      <td>Canvas</td>\n",
       "      <td>55.0</td>\n",
       "    </tr>\n",
       "    <tr>\n",
       "      <th>4</th>\n",
       "      <td>Puma</td>\n",
       "      <td>Future Rider</td>\n",
       "      <td>Lifestyle</td>\n",
       "      <td>Women</td>\n",
       "      <td>7.5</td>\n",
       "      <td>Pink</td>\n",
       "      <td>Mesh</td>\n",
       "      <td>80.0</td>\n",
       "    </tr>\n",
       "  </tbody>\n",
       "</table>\n",
       "</div>"
      ],
      "text/plain": [
       "      Brand            Model        Type Gender Size(US)      Color  \\\n",
       "0      Nike     Air Jordan 1  Basketball    Men       10  Red/Black   \n",
       "1    Adidas   Ultra Boost 21     Running    Men      9.5      Black   \n",
       "2    Reebok  Classic Leather      Casual    Men       11      White   \n",
       "3  Converse     Chuck Taylor      Casual  Women        8       Navy   \n",
       "4      Puma     Future Rider   Lifestyle  Women      7.5       Pink   \n",
       "\n",
       "    Material  Price ($)  \n",
       "0    Leather      170.0  \n",
       "1  Primeknit      180.0  \n",
       "2    Leather       75.0  \n",
       "3     Canvas       55.0  \n",
       "4       Mesh       80.0  "
      ]
     },
     "execution_count": 234,
     "metadata": {},
     "output_type": "execute_result"
    }
   ],
   "source": [
    "data['Size(US)'] = data['Size(US)'].str.replace('US','')\n",
    "data.head()"
   ]
  },
  {
   "cell_type": "code",
   "execution_count": 235,
   "id": "0fb2967c-6143-4ecb-9776-43fef662b4ea",
   "metadata": {},
   "outputs": [
    {
     "data": {
      "text/plain": [
       "25.0"
      ]
     },
     "execution_count": 235,
     "metadata": {},
     "output_type": "execute_result"
    }
   ],
   "source": [
    "data['Price ($)'].min()"
   ]
  },
  {
   "cell_type": "code",
   "execution_count": 236,
   "id": "654dff1c-9ca6-413e-b9d8-3e9107800ec4",
   "metadata": {},
   "outputs": [
    {
     "data": {
      "text/plain": [
       "250.0"
      ]
     },
     "execution_count": 236,
     "metadata": {},
     "output_type": "execute_result"
    }
   ],
   "source": [
    "data['Price ($)'].max()"
   ]
  },
  {
   "cell_type": "code",
   "execution_count": 243,
   "id": "aef4e62f-ddbd-47fb-964a-f5ca4933d5fe",
   "metadata": {},
   "outputs": [
    {
     "data": {
      "text/plain": [
       "Brand        0\n",
       "Model        0\n",
       "Type         0\n",
       "Gender       0\n",
       "Size(US)     0\n",
       "Color        0\n",
       "Material     0\n",
       "Price ($)    0\n",
       "dtype: int64"
      ]
     },
     "execution_count": 243,
     "metadata": {},
     "output_type": "execute_result"
    }
   ],
   "source": [
    "#Checking for missing values\n",
    "data.isnull().sum()"
   ]
  },
  {
   "cell_type": "code",
   "execution_count": 239,
   "id": "f15fbd43-6cd0-402a-8519-95b9aea89eb8",
   "metadata": {},
   "outputs": [
    {
     "data": {
      "text/plain": [
       "Size(US)\n",
       " 8.5     132\n",
       " 9       127\n",
       " 9.5     117\n",
       " 7.5     106\n",
       " 10      100\n",
       " 8        93\n",
       " 11       89\n",
       " 7        81\n",
       " 10.5     49\n",
       " 6.5      43\n",
       " 12       31\n",
       " 11.5     20\n",
       " 6        18\n",
       "Name: count, dtype: int64"
      ]
     },
     "execution_count": 239,
     "metadata": {},
     "output_type": "execute_result"
    }
   ],
   "source": [
    "data['Size(US)'].value_counts()"
   ]
  },
  {
   "cell_type": "code",
   "execution_count": 240,
   "id": "e92356a6-2892-4778-b28c-6c4ae708f845",
   "metadata": {},
   "outputs": [
    {
     "data": {
      "text/plain": [
       "Brand\n",
       "Nike           118\n",
       "Adidas         100\n",
       "Reebok         100\n",
       "Converse       100\n",
       "Puma           100\n",
       "Vans           100\n",
       "New Balance    100\n",
       "Asics          100\n",
       "Fila            99\n",
       "Skechers        89\n",
       "Name: count, dtype: int64"
      ]
     },
     "execution_count": 240,
     "metadata": {},
     "output_type": "execute_result"
    }
   ],
   "source": [
    "data['Brand'].value_counts()"
   ]
  },
  {
   "cell_type": "markdown",
   "id": "3b85c96a-5ea0-46fc-8fd1-c2b0dd6f4efb",
   "metadata": {},
   "source": [
    "★🌠  🎀  𝐓𝐡𝐢𝐬 𝐢𝐬 𝐃𝐚𝐭𝐚𝐒𝐞𝐭 𝐜𝐨𝐧𝐬𝐢𝐬𝐭 𝐨𝐟 𝐬𝐡𝐨𝐞𝐬 𝐛𝐫𝐚𝐧𝐝 𝐨𝐟 :- \r\n",
    ">𝐍𝐢𝐤�\n",
    " >𝐀𝐝𝐢𝐝𝐚�\n",
    " >𝐑𝐞𝐞𝐛𝐨𝐤\n",
    ">>𝐏𝐮𝐦𝐚\n",
    ">>𝐕𝐚𝐧𝐬\n",
    ">>𝐍𝐞𝐰 𝐁𝐚𝐥𝐚𝐧𝐜�\n",
    " >𝐀𝐬𝐢𝐜�\n",
    " >𝐂𝐨𝐧𝐯𝐞𝐫𝐬�\n",
    " >𝐅𝐢𝐥�\n",
    " >𝐒𝐤𝐞𝐜𝐡𝐞𝐫𝐬  🎀  🌠★"
   ]
  },
  {
   "cell_type": "markdown",
   "id": "ed0ed32c-0bb9-4771-ba6d-b05f94c282b7",
   "metadata": {},
   "source": [
    "Q)Which shoes of brand and mpodel is having the highest and lowest price? "
   ]
  },
  {
   "cell_type": "code",
   "execution_count": 166,
   "id": "de1081cc-230f-4f55-86b9-91d8ddcd1730",
   "metadata": {},
   "outputs": [
    {
     "data": {
      "text/html": [
       "<div>\n",
       "<style scoped>\n",
       "    .dataframe tbody tr th:only-of-type {\n",
       "        vertical-align: middle;\n",
       "    }\n",
       "\n",
       "    .dataframe tbody tr th {\n",
       "        vertical-align: top;\n",
       "    }\n",
       "\n",
       "    .dataframe thead th {\n",
       "        text-align: right;\n",
       "    }\n",
       "</style>\n",
       "<table border=\"1\" class=\"dataframe\">\n",
       "  <thead>\n",
       "    <tr style=\"text-align: right;\">\n",
       "      <th></th>\n",
       "      <th>Brand</th>\n",
       "      <th>Model</th>\n",
       "      <th>Type</th>\n",
       "      <th>Gender</th>\n",
       "      <th>Size(US)</th>\n",
       "      <th>Color</th>\n",
       "      <th>Material</th>\n",
       "      <th>Price ($)</th>\n",
       "    </tr>\n",
       "  </thead>\n",
       "  <tbody>\n",
       "    <tr>\n",
       "      <th>0</th>\n",
       "      <td>Nike</td>\n",
       "      <td>Air Jordan 1</td>\n",
       "      <td>Basketball</td>\n",
       "      <td>Men</td>\n",
       "      <td>10</td>\n",
       "      <td>Red/Black</td>\n",
       "      <td>Leather</td>\n",
       "      <td>170.00</td>\n",
       "    </tr>\n",
       "    <tr>\n",
       "      <th>1</th>\n",
       "      <td>Adidas</td>\n",
       "      <td>Ultra Boost 21</td>\n",
       "      <td>Running</td>\n",
       "      <td>Men</td>\n",
       "      <td>9.5</td>\n",
       "      <td>Black</td>\n",
       "      <td>Primeknit</td>\n",
       "      <td>180.00</td>\n",
       "    </tr>\n",
       "    <tr>\n",
       "      <th>2</th>\n",
       "      <td>Reebok</td>\n",
       "      <td>Classic Leather</td>\n",
       "      <td>Casual</td>\n",
       "      <td>Men</td>\n",
       "      <td>11</td>\n",
       "      <td>White</td>\n",
       "      <td>Leather</td>\n",
       "      <td>75.00</td>\n",
       "    </tr>\n",
       "    <tr>\n",
       "      <th>3</th>\n",
       "      <td>Converse</td>\n",
       "      <td>Chuck Taylor</td>\n",
       "      <td>Casual</td>\n",
       "      <td>Women</td>\n",
       "      <td>8</td>\n",
       "      <td>Navy</td>\n",
       "      <td>Canvas</td>\n",
       "      <td>55.00</td>\n",
       "    </tr>\n",
       "    <tr>\n",
       "      <th>4</th>\n",
       "      <td>Puma</td>\n",
       "      <td>Future Rider</td>\n",
       "      <td>Lifestyle</td>\n",
       "      <td>Women</td>\n",
       "      <td>7.5</td>\n",
       "      <td>Pink</td>\n",
       "      <td>Mesh</td>\n",
       "      <td>80.00</td>\n",
       "    </tr>\n",
       "  </tbody>\n",
       "</table>\n",
       "</div>"
      ],
      "text/plain": [
       "      Brand            Model        Type Gender Size(US)      Color  \\\n",
       "0      Nike     Air Jordan 1  Basketball    Men       10  Red/Black   \n",
       "1    Adidas   Ultra Boost 21     Running    Men      9.5      Black   \n",
       "2    Reebok  Classic Leather      Casual    Men       11      White   \n",
       "3  Converse     Chuck Taylor      Casual  Women        8       Navy   \n",
       "4      Puma     Future Rider   Lifestyle  Women      7.5       Pink   \n",
       "\n",
       "    Material Price ($)  \n",
       "0    Leather   170.00   \n",
       "1  Primeknit   180.00   \n",
       "2    Leather    75.00   \n",
       "3     Canvas    55.00   \n",
       "4       Mesh    80.00   "
      ]
     },
     "execution_count": 166,
     "metadata": {},
     "output_type": "execute_result"
    }
   ],
   "source": [
    "data.head()"
   ]
  },
  {
   "cell_type": "code",
   "execution_count": 264,
   "id": "a14e2e47-298e-43e0-ad45-ce0183c1f9ad",
   "metadata": {},
   "outputs": [
    {
     "data": {
      "text/plain": [
       "Brand\n",
       "Adidas         81\n",
       "Asics          78\n",
       "Nike           61\n",
       "Reebok         60\n",
       "New Balance    51\n",
       "Puma           45\n",
       "Converse        6\n",
       "Skechers        4\n",
       "Name: count, dtype: int64"
      ]
     },
     "execution_count": 264,
     "metadata": {},
     "output_type": "execute_result"
    }
   ],
   "source": [
    "data[data['Price ($)'] > 100]['Brand'].value_counts()  #unique()"
   ]
  },
  {
   "cell_type": "code",
   "execution_count": 248,
   "id": "674ed001-d1b5-4a3b-bf96-c3100b6a5f21",
   "metadata": {},
   "outputs": [
    {
     "data": {
      "text/plain": [
       "(array([0, 1, 2, 3, 4, 5, 6, 7, 8, 9]),\n",
       " [Text(0, 0, 'Nike'),\n",
       "  Text(1, 0, 'Adidas'),\n",
       "  Text(2, 0, 'Reebok'),\n",
       "  Text(3, 0, 'Converse'),\n",
       "  Text(4, 0, 'Puma'),\n",
       "  Text(5, 0, 'Vans'),\n",
       "  Text(6, 0, 'New Balance'),\n",
       "  Text(7, 0, 'Asics'),\n",
       "  Text(8, 0, 'Fila'),\n",
       "  Text(9, 0, 'Skechers')])"
      ]
     },
     "execution_count": 248,
     "metadata": {},
     "output_type": "execute_result"
    },
    {
     "data": {
      "image/png": "[encoded data removed]",
      "text/plain": [
       "<Figure size 640x480 with 1 Axes>"
      ]
     },
     "metadata": {},
     "output_type": "display_data"
    }
   ],
   "source": [
    "plot = sns.barplot(data=data  , x = 'Brand' , y='Price ($)')\n",
    "plt.xticks(rotation=90)"
   ]
  },
  {
   "cell_type": "code",
   "execution_count": null,
   "id": "821846b7-5f3d-4b79-983e-d73c32a329e7",
   "metadata": {},
   "outputs": [],
   "source": []
  },
  {
   "cell_type": "code",
   "execution_count": null,
   "id": "86472cac-5309-4efc-969e-26e581a37f17",
   "metadata": {},
   "outputs": [],
   "source": []
  }
 ],
 "metadata": {
  "kernelspec": {
   "display_name": "Python 3 (ipykernel)",
   "language": "python",
   "name": "python3"
  },
  "language_info": {
   "codemirror_mode": {
    "name": "ipython",
    "version": 3
   },
   "file_extension": ".py",
   "mimetype": "text/x-python",
   "name": "python",
   "nbconvert_exporter": "python",
   "pygments_lexer": "ipython3",
   "version": "3.13.1"
  },
  "widgets": {
   "application/vnd.jupyter.widget-state+json": {
    "state": {},
    "version_major": 2,
    "version_minor": 0
   }
  }
 },
 "nbformat": 4,
 "nbformat_minor": 5
}
