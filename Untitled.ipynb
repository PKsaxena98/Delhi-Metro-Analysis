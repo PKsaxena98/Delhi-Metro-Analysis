{
 "cells": [
  {
   "cell_type": "code",
   "execution_count": 5,
   "id": "3c79fc32-da64-4ce2-9419-a13bd921c93c",
   "metadata": {},
   "outputs": [
    {
     "ename": "ModuleNotFoundError",
     "evalue": "No module named 'phonenumbers'",
     "output_type": "error",
     "traceback": [
      "\u001b[1;31m---------------------------------------------------------------------------\u001b[0m",
      "\u001b[1;31mModuleNotFoundError\u001b[0m                       Traceback (most recent call last)",
      "Cell \u001b[1;32mIn[5], line 1\u001b[0m\n\u001b[1;32m----> 1\u001b[0m \u001b[38;5;28;01mimport\u001b[39;00m \u001b[38;5;21;01mphonenumbers\u001b[39;00m\n\u001b[0;32m      2\u001b[0m \u001b[38;5;28;01mfrom\u001b[39;00m \u001b[38;5;21;01mphonenumbers\u001b[39;00m \u001b[38;5;28;01mimport\u001b[39;00m geocoder\n",
      "\u001b[1;31mModuleNotFoundError\u001b[0m: No module named 'phonenumbers'"
     ]
    }
   ],
   "source": [
    "import phonenumbers\n",
    "from phonenumbers import geocoder"
   ]
  },
  {
   "cell_type": "code",
   "execution_count": 2,
   "id": "70faf6bd-9028-4b28-9426-2e0336c69531",
   "metadata": {},
   "outputs": [
    {
     "ename": "NameError",
     "evalue": "name 'phonenumbers' is not defined",
     "output_type": "error",
     "traceback": [
      "\u001b[1;31m---------------------------------------------------------------------------\u001b[0m",
      "\u001b[1;31mNameError\u001b[0m                                 Traceback (most recent call last)",
      "Cell \u001b[1;32mIn[2], line 1\u001b[0m\n\u001b[1;32m----> 1\u001b[0m phone_numbers1 \u001b[38;5;241m=\u001b[39m \u001b[43mphonenumbers\u001b[49m\u001b[38;5;241m.\u001b[39mparse(\u001b[38;5;124m\"\u001b[39m\u001b[38;5;124m+917985728572\u001b[39m\u001b[38;5;124m\"\u001b[39m)\n\u001b[0;32m      2\u001b[0m phone_numbers2 \u001b[38;5;241m=\u001b[39m phonenumbers\u001b[38;5;241m.\u001b[39mparse(\u001b[38;5;124m\"\u001b[39m\u001b[38;5;124m+916386796376\u001b[39m\u001b[38;5;124m\"\u001b[39m)\n\u001b[0;32m      3\u001b[0m \u001b[38;5;66;03m#phone_numbers3 = phonenumbers.parse(\"+917985728572\")\u001b[39;00m\n",
      "\u001b[1;31mNameError\u001b[0m: name 'phonenumbers' is not defined"
     ]
    }
   ],
   "source": [
    "phone_numbers1 = phonenumbers.parse(\"+917985728572\")\n",
    "phone_numbers2 = phonenumbers.parse(\"+916386796376\")\n",
    "#phone_numbers3 = phonenumbers.parse(\"+917985728572\")"
   ]
  },
  {
   "cell_type": "code",
   "execution_count": 6,
   "id": "cc4fb0ab-eb91-4c52-a2bb-4fb9ad24ac8b",
   "metadata": {},
   "outputs": [
    {
     "name": "stdout",
     "output_type": "stream",
     "text": [
      "\n",
      " Phone number Location \n",
      "\n"
     ]
    },
    {
     "ename": "NameError",
     "evalue": "name 'geocoder' is not defined",
     "output_type": "error",
     "traceback": [
      "\u001b[1;31m---------------------------------------------------------------------------\u001b[0m",
      "\u001b[1;31mNameError\u001b[0m                                 Traceback (most recent call last)",
      "Cell \u001b[1;32mIn[6], line 2\u001b[0m\n\u001b[0;32m      1\u001b[0m \u001b[38;5;28mprint\u001b[39m(\u001b[38;5;124m\"\u001b[39m\u001b[38;5;130;01m\\n\u001b[39;00m\u001b[38;5;124m Phone number Location \u001b[39m\u001b[38;5;130;01m\\n\u001b[39;00m\u001b[38;5;124m\"\u001b[39m)\n\u001b[1;32m----> 2\u001b[0m \u001b[38;5;28mprint\u001b[39m(\u001b[43mgeocoder\u001b[49m\u001b[38;5;241m.\u001b[39mdescription_for_number(phone_number1 , \u001b[38;5;124m\"\u001b[39m\u001b[38;5;124men\u001b[39m\u001b[38;5;124m\"\u001b[39m));\n\u001b[0;32m      3\u001b[0m \u001b[38;5;28mprint\u001b[39m(geocoder\u001b[38;5;241m.\u001b[39mdescription_for_number(phone_number2 , \u001b[38;5;124m\"\u001b[39m\u001b[38;5;124men\u001b[39m\u001b[38;5;124m\"\u001b[39m));\n",
      "\u001b[1;31mNameError\u001b[0m: name 'geocoder' is not defined"
     ]
    }
   ],
   "source": [
    "print(\"\\n Phone number Location \\n\")\n",
    "print(geocoder.description_for_number(phone_number1 , \"en\"));\n",
    "print(geocoder.description_for_number(phone_number2 , \"en\"));\n"
   ]
  },
  {
   "cell_type": "code",
   "execution_count": null,
   "id": "f5745013-f752-4f4f-a0a8-12ca0922dcd0",
   "metadata": {},
   "outputs": [],
   "source": []
  }
 ],
 "metadata": {
  "kernelspec": {
   "display_name": "Python 3 (ipykernel)",
   "language": "python",
   "name": "python3"
  },
  "language_info": {
   "codemirror_mode": {
    "name": "ipython",
    "version": 3
   },
   "file_extension": ".py",
   "mimetype": "text/x-python",
   "name": "python",
   "nbconvert_exporter": "python",
   "pygments_lexer": "ipython3",
   "version": "3.11.5"
  },
  "widgets": {
   "application/vnd.jupyter.widget-state+json": {
    "state": {},
    "version_major": 2,
    "version_minor": 0
   }
  }
 },
 "nbformat": 4,
 "nbformat_minor": 5
}
