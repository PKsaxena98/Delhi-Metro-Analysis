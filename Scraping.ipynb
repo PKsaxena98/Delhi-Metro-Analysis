{
 "cells": [
  {
   "cell_type": "markdown",
   "id": "f5da1cfe-2680-49ac-bd27-5dc2dccb3b37",
   "metadata": {},
   "source": [
    "**Scraping Instagram with Python**"
   ]
  },
  {
   "cell_type": "code",
   "execution_count": 1,
   "id": "b666b9f7-97db-4637-8c12-ce1e453b2a64",
   "metadata": {},
   "outputs": [],
   "source": [
    "import instaloader"
   ]
  },
  {
   "cell_type": "code",
   "execution_count": 3,
   "id": "78776124-4660-43a4-ae82-f48e728af97c",
   "metadata": {},
   "outputs": [
    {
     "name": "stdout",
     "output_type": "stream",
     "text": [
      "Username: anupgour258\n",
      "Full Name: Anup Kumar\n",
      "Number of Posts:  60\n",
      "Followers: 1760\n",
      "Following: 1738\n",
      "Bio:\n",
      " You Tube -Fact ᴄɪɴᴇᴍᴀ\n",
      "ꜰʀᴏɴᴛ ᴇɴᴅ ᴅᴇᴠᴇʟᴏᴩᴇʀ \n",
      "Guys who 💙 facts \n",
      "📑| ᴡᴇʙ ᴅᴇᴠᴇʟᴏᴩᴇʀ \n",
      "💻| ꜰʀᴇᴇʟᴀɴᴄᴇʀ \n",
      "📃| ᴄᴏɴᴛᴇɴᴛ ᴄʀᴇᴀᴛᴏʀ  \n",
      "🖤| ꜱᴇʟꜰ ʟᴏᴠᴇʀ\n",
      "✈️| ᴀɪᴍ ʙɪɢ https://youtu.be/5RDd1yAirZc\n"
     ]
    }
   ],
   "source": [
    "L = instaloader.Instaloader()\n",
    "profile = instaloader.Profile.from_username(L.context, \"Anupgour258\")\n",
    "\n",
    "print(\"Username:\", profile.username)\n",
    "print(\"Full Name:\", profile.full_name)\n",
    "print(\"Number of Posts: \", profile.mediacount)\n",
    "print(\"Followers:\", profile.followers)\n",
    "print(\"Following:\", profile.followees)\n",
    "print(\"Bio:\\n\", profile.biography,profile.external_url)"
   ]
  },
  {
   "cell_type": "code",
   "execution_count": null,
   "id": "fea7b6ff-b310-4d18-aa70-7d24d79b81e9",
   "metadata": {},
   "outputs": [],
   "source": []
  }
 ],
 "metadata": {
  "kernelspec": {
   "display_name": "Python 3 (ipykernel)",
   "language": "python",
   "name": "python3"
  },
  "language_info": {
   "codemirror_mode": {
    "name": "ipython",
    "version": 3
   },
   "file_extension": ".py",
   "mimetype": "text/x-python",
   "name": "python",
   "nbconvert_exporter": "python",
   "pygments_lexer": "ipython3",
   "version": "3.11.5"
  },
  "widgets": {
   "application/vnd.jupyter.widget-state+json": {
    "state": {},
    "version_major": 2,
    "version_minor": 0
   }
  }
 },
 "nbformat": 4,
 "nbformat_minor": 5
}
